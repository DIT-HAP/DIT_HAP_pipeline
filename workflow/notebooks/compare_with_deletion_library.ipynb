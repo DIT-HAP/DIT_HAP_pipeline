{
 "cells": [
  {
   "cell_type": "markdown",
   "id": "7225745e",
   "metadata": {},
   "source": [
    "# 1. Import modules"
   ]
  },
  {
   "cell_type": "code",
   "execution_count": null,
   "id": "97e963c9",
   "metadata": {},
   "outputs": [],
   "source": [
    "from dataclasses import dataclass\n",
    "\n",
    "from pathlib import Path\n",
    "import pandas as pd\n",
    "import numpy as np\n",
    "\n",
    "import matplotlib.pyplot as plt\n",
    "\n",
    "plt.style.use(\"../../config/DIT_HAP.mplstyle\")\n",
    "COLORS = plt.rcParams['axes.prop_cycle'].by_key()['color']\n",
    "AX_WIDTH, AX_HEIGHT = plt.rcParams['figure.figsize']\n",
    "\n",
    "CATEGORY_COLOR_MAP = {\n",
    "    \"WT\": COLORS[1],\n",
    "    \"small colonies\": COLORS[1],\n",
    "    \"very small colonies\": COLORS[1],\n",
    "    \"E\": COLORS[0],\n",
    "    \"microcolonies\": COLORS[0],\n",
    "    \"germinated\": COLORS[0],\n",
    "    \"spores\": COLORS[0],\n",
    "    \"Not verified\": COLORS[-1]\n",
    "}\n",
    "\n",
    "DONUT_COLOR_MAP = {\n",
    "    \"spores\": COLORS[7],\n",
    "    \"germinated\": COLORS[0],\n",
    "    \"microcolonies\": COLORS[-1],\n",
    "    \"E\": COLORS[5],\n",
    "    \"very small colonies\": COLORS[2],\n",
    "    \"small colonies\": COLORS[4],\n",
    "    \"WT\": COLORS[-4]\n",
    "}"
   ]
  },
  {
   "cell_type": "markdown",
   "id": "d7f66a7c",
   "metadata": {},
   "source": [
    "# 2.Configuration"
   ]
  },
  {
   "cell_type": "code",
   "execution_count": null,
   "id": "bff4bb3c",
   "metadata": {},
   "outputs": [],
   "source": [
    "@dataclass\n",
    "class Config:\n",
    "\n",
    "    project_dir: Path = Path(\"../../results/HD_DIT_HAP_generationRAW\")\n",
    "\n",
    "    @property\n",
    "    def deletion_library_essentiality(self) -> pd.DataFrame:\n",
    "        return pd.read_excel(\"../../resources/Hayles_2013_OB_merged_categories_sysIDupdated.xlsx\")[[\"Updated_Systematic_ID\", \"One or multi basic phenotypes\", \"Category\"]]\n",
    "\n",
    "    @property\n",
    "    def gene_level_result(self) -> pd.DataFrame:\n",
    "        return pd.read_csv(self.project_dir / \"17_gene_level_curve_fitting/gene_level_fitting_statistics.tsv\", sep=\"\\t\")\n",
    "\n",
    "    @property\n",
    "    def verification_result(self) -> pd.DataFrame:\n",
    "        verification = pd.read_excel(\"../../resources/verfication_results_summary.xlsx\")\n",
    "        verification = verification.dropna(subset=[\"Verified essentiality\"])\n",
    "        verification[\"Verification result\"] = verification[\"Verification result\"].replace(\n",
    "            {\n",
    "                \"WT-like\": \"WT\",\n",
    "                \"Very small colony\": \"very small colonies\",\n",
    "                \"Small colony\": \"small colonies\",\n",
    "                \"E, Very small colony\": \"E\",\n",
    "                \"E & very small colonies\": \"E\",\n",
    "                \"small colonies (unequal)\": \"small colonies\",\n",
    "                \"very small colonies (unequal)\": \"very small colonies\",\n",
    "                \"E, 2 & 3\": \"E\",\n",
    "                \"Small colony, Very small colony\": \"small colonies\",\n",
    "                \"leucine transporter?\": \"E\"\n",
    "            }\n",
    "        )\n",
    "        return verification\n",
    "\n",
    "    def __post_init__(self):\n",
    "        res = pd.merge(self.gene_level_result, self.deletion_library_essentiality, left_on=\"Systematic ID\", right_on=\"Updated_Systematic_ID\", how=\"left\").drop(columns=[\"Updated_Systematic_ID\"])\n",
    "        res[\"Category_with_essentiality\"] = res.apply(lambda row: f\"{row['Category']} ({row['DeletionLibrary_essentiality']})\" if row[\"Category\"] == 'small colonies' and row[\"DeletionLibrary_essentiality\"] == \"E\" else row[\"Category\"], axis=1)\n",
    "        self.merged_result = res.copy()\n",
    "\n",
    "        self.output_dir = self.project_dir / \"20_essentiality_verification\"\n",
    "        self.output_dir.mkdir(exist_ok=True, parents=True)\n",
    "\n",
    "data_config = Config()"
   ]
  },
  {
   "cell_type": "markdown",
   "id": "4cf78fc5",
   "metadata": {},
   "source": [
    "# 3. Data preparation"
   ]
  },
  {
   "cell_type": "code",
   "execution_count": null,
   "id": "d84eeac0",
   "metadata": {},
   "outputs": [],
   "source": [
    "selected_categories = [\"spores\", \"germinated\", \"microcolonies\", \"very small colonies\", \"small colonies\", \"WT\"]\n",
    "# selected_categories_with_essentiality = [\"spores\", \"germinated\", \"microcolonies\", \"very small colonies\", \"small colonies\", \"WT\"]"
   ]
  },
  {
   "cell_type": "code",
   "execution_count": null,
   "id": "8edea0da",
   "metadata": {},
   "outputs": [],
   "source": [
    "um_dict = data_config.merged_result.query(\"Category in @selected_categories\").groupby(\"Category_with_essentiality\")[\"um\"].apply(list).to_dict()\n",
    "um_dict = {\n",
    "    \"WT\": um_dict[\"WT\"],\n",
    "    \"small colonies\": um_dict[\"small colonies\"],\n",
    "    \"very small colonies\": um_dict[\"very small colonies\"],\n",
    "    \"microcolonies\": um_dict[\"microcolonies\"],\n",
    "    \"germinated\": um_dict[\"germinated\"],\n",
    "    \"spores\": um_dict[\"spores\"],\n",
    "}"
   ]
  },
  {
   "cell_type": "code",
   "execution_count": null,
   "id": "8a4e56f7",
   "metadata": {},
   "outputs": [],
   "source": [
    "def prepare_verification_data(\n",
    "    data_config: Config = data_config,\n",
    "    outlier_filter_criteria: str = \"Category == 'WT' and um > 0.35\",\n",
    "    table_title: str = \"verification_data_WT_outliers.tsv\"\n",
    ") -> dict:\n",
    "    \"\"\" Prepare verification data for outlier analysis. \"\"\"\n",
    "\n",
    "    outliers = data_config.merged_result.query(outlier_filter_criteria).sort_values(by=\"um\", ascending=False)[\"Systematic ID\"].unique().tolist()\n",
    "    verified_outliers = data_config.verification_result.query(\"`Systematic ID` in @outliers\").copy()\n",
    "    verified_outlier_genes = verified_outliers[\"Systematic ID\"].unique().tolist()\n",
    "    missing_outlier_genes = [gene for gene in outliers if gene not in verified_outlier_genes]\n",
    "\n",
    "    verification_results = {}\n",
    "    verification_results[\"Not verified\"] = missing_outlier_genes\n",
    "    for category in [\"WT\", \"small colonies\", \"very small colonies\", \"E\", \"microcolonies\", \"germinated\", \"spores\"]:\n",
    "        category_df = verified_outliers.query(\"`Verification result` == @category\").copy()\n",
    "        if not category_df.empty:\n",
    "            verification_results[category] = category_df[\"Systematic ID\"].unique().tolist()\n",
    "\n",
    "    verification_genes_df = pd.DataFrame()\n",
    "    for k, v in verification_results.items():\n",
    "        sub_df = data_config.merged_result.query(\"`Systematic ID` in @v\").copy()\n",
    "        sub_df[\"Verification result\"] = k\n",
    "        verification_genes_df = pd.concat([verification_genes_df, sub_df], ignore_index=True)\n",
    "\n",
    "    print(\"Outliers: \", verification_genes_df.shape[0])\n",
    "    print(\"Verified_outliers: \", len(verified_outliers))\n",
    "    print(\"Missing_outliers: \", len(missing_outlier_genes))\n",
    "\n",
    "    um_dict = { k: data_config.merged_result.query(\"`Systematic ID` in @v\")[\"um\"].tolist() for k, v in verification_results.items() }\n",
    "\n",
    "    verification_genes_df.to_csv(data_config.output_dir / table_title, sep=\"\\t\", index=False)\n",
    "\n",
    "    return um_dict"
   ]
  },
  {
   "cell_type": "markdown",
   "id": "0c8f3218",
   "metadata": {},
   "source": [
    "# 4. Boxplot"
   ]
  },
  {
   "cell_type": "code",
   "execution_count": null,
   "id": "c889e03d",
   "metadata": {},
   "outputs": [],
   "source": [
    "def boxplot_with_violinplot(x, y, ax, colors):\n",
    "    # Create violin plot\n",
    "    parts = ax.violinplot(y, \n",
    "                         positions=range(len(x)),\n",
    "                         showmeans=False, showmedians=False, showextrema=False, orientation=\"horizontal\")\n",
    "    \n",
    "    # Style violin plots\n",
    "    for i, pc in enumerate(parts['bodies']):\n",
    "        pc.set_facecolor(colors[i])\n",
    "        pc.set_alpha(0.6)\n",
    "    \n",
    "    # Create box plot\n",
    "    box_parts = ax.boxplot(y, \n",
    "                          positions=range(len(x)),\n",
    "                          widths=0.2, patch_artist=True, \n",
    "                          medianprops=dict(color='black', linewidth=2),\n",
    "                          orientation=\"horizontal\")\n",
    "\n",
    "    for i, bp in enumerate(box_parts['boxes']):\n",
    "        bp.set_facecolor(colors[i])\n",
    "        bp.set_alpha(0.8)\n",
    "\n",
    "    # Set x-axis labels\n",
    "    ax.set_yticks(range(len(x)))\n",
    "    tick_labels = [f\"{l} (n={len(y[i])})\" for i, l in enumerate(x)]\n",
    "    ax.set_yticklabels(tick_labels, fontweight='bold')\n",
    "    ax.tick_params(axis='y', which='minor', length=0)\n",
    "\n",
    "def boxplot_with_violinplot_and_statistics(\n",
    "    um_dict: dict,\n",
    "    pdf_title: str\n",
    "):\n",
    "    \"\"\" Generate boxplot with violinplot and statistics text. \"\"\"\n",
    "    fig, axes = plt.subplots(1, 2, figsize=(2*AX_WIDTH, AX_HEIGHT), sharey=True, gridspec_kw={'width_ratios': [3, 1]})\n",
    "\n",
    "    # Plot boxplot with violinplot on the first subplot\n",
    "    EV_colors = [CATEGORY_COLOR_MAP[category] for category in um_dict.keys()]\n",
    "    boxplot_with_violinplot(list(um_dict.keys()), list(um_dict.values()), axes[0], EV_colors)\n",
    "    axes[0].set_title(\"Depletion Rate (DR)\")\n",
    "    axes[0].set_xlim(-0.3, 1.5)\n",
    "\n",
    "    # Add statistics text to the second subplot\n",
    "    for row, (category, category_ums) in enumerate(um_dict.items()):\n",
    "        q1 = np.percentile(category_ums, 25)\n",
    "        q3 = np.percentile(category_ums, 75)\n",
    "        median = np.median(category_ums)\n",
    "        mean = np.mean(category_ums)\n",
    "        info = f\"Q1={q1:.2f}, Median={median:.2f}, Q3={q3:.2f}, Mean={mean:.2f}\"\n",
    "        axes[1].text(1.05, row, info, va='center', ha='left', fontweight=\"bold\")\n",
    "    axes[1].axis('off')\n",
    "\n",
    "    # Finalize and save the figure\n",
    "    plt.savefig(data_config.output_dir / pdf_title, dpi=300)\n",
    "    plt.show()\n",
    "    plt.close()"
   ]
  },
  {
   "cell_type": "markdown",
   "id": "2a3b54fa",
   "metadata": {},
   "source": [
    "## 4.1 Compare with deletion library"
   ]
  },
  {
   "cell_type": "code",
   "execution_count": null,
   "id": "0e889e34",
   "metadata": {},
   "outputs": [],
   "source": [
    "boxplot_with_violinplot_and_statistics(um_dict, \"depletion_rate_comparison_with_deletion_library_summary.pdf\")"
   ]
  },
  {
   "cell_type": "markdown",
   "id": "75c7be6c",
   "metadata": {},
   "source": [
    "## 4.2 Plot boxplots with WT2nonWT genes\n",
    "\n",
    "Choose the WT category and select the genes with um greater than the median of small colonies (`~0.35`)"
   ]
  },
  {
   "cell_type": "code",
   "execution_count": null,
   "id": "f328e7da",
   "metadata": {},
   "outputs": [],
   "source": [
    "WT2nonWT_um_dict = prepare_verification_data(\n",
    "    data_config=data_config,\n",
    "    outlier_filter_criteria=\"Category == 'WT' and um > 0.35\",\n",
    "    table_title=\"WT2nonWT_genes_verification_summary.tsv\",\n",
    ")\n",
    "\n",
    "boxplot_with_violinplot_and_statistics(WT2nonWT_um_dict, \"WT2nonWT_verification_boxplot_violinplot.pdf\")"
   ]
  },
  {
   "cell_type": "markdown",
   "id": "99c737a1",
   "metadata": {},
   "source": [
    "## 4.3 small colonies2essential\n",
    "\n",
    "Choose the small colonies category and select the genes with um greater than the median of the microcolonies (`~0.75`)"
   ]
  },
  {
   "cell_type": "code",
   "execution_count": null,
   "id": "659fd928",
   "metadata": {},
   "outputs": [],
   "source": [
    "sc2E_um_dict = prepare_verification_data(\n",
    "    data_config=data_config,\n",
    "    outlier_filter_criteria=\"Category == 'small colonies' and um > 0.75\",\n",
    "    table_title=\"small_colonies_to_E_genes_verification_summary.tsv\",\n",
    ")\n",
    "boxplot_with_violinplot_and_statistics(sc2E_um_dict, \"small_colonies_to_E_verification_boxplot_violinplot.pdf\")"
   ]
  },
  {
   "cell_type": "markdown",
   "id": "df994639",
   "metadata": {},
   "source": [
    "## 4.4 E2V genes\n",
    "\n",
    "Choose the essential category and select the genes with um less than the median of the small colonies (`~0.35`)"
   ]
  },
  {
   "cell_type": "code",
   "execution_count": null,
   "id": "f9d60783",
   "metadata": {},
   "outputs": [],
   "source": [
    "E_categories = [ \"spores\", \"germinated\", \"microcolonies\" ]\n",
    "E2V_um_dict = prepare_verification_data(\n",
    "    data_config=data_config,\n",
    "    outlier_filter_criteria=\"Category in @E_categories and um < 0.35\",\n",
    "    table_title=\"E2V_genes_verification_summary.tsv\",\n",
    ")\n",
    "boxplot_with_violinplot_and_statistics(E2V_um_dict, \"E2V_verification_boxplot_violinplot.pdf\")"
   ]
  },
  {
   "cell_type": "markdown",
   "id": "f7797d16",
   "metadata": {},
   "source": [
    "# 5. Donut plot"
   ]
  },
  {
   "cell_type": "code",
   "execution_count": null,
   "id": "81597a63",
   "metadata": {},
   "outputs": [],
   "source": [
    "label_orders = [\"spores\", \"germinated\", \"microcolonies\", \"E\", \"very small colonies\", \"small colonies\", \"WT\"]\n",
    "\n",
    "def donut_chart(um_dict: dict, pdf_title: str):\n",
    "    \"\"\" Generate donut chart for verification results. \"\"\"\n",
    "\n",
    "    # prepare the labels and sizes\n",
    "    sorted_um_dict = {k: um_dict[k] for k in label_orders if k in um_dict}\n",
    "    sizes = [len(v) for v in sorted_um_dict.values()]\n",
    "    labels = list(sorted_um_dict.keys())\n",
    "    colors = [DONUT_COLOR_MAP[k] for k in labels]\n",
    "\n",
    "    # Create the donut chart\n",
    "    fig, ax = plt.subplots(figsize=(6, 6))\n",
    "    wedges, texts, autotexts = ax.pie(\n",
    "        sizes, \n",
    "        # labels=labels, \n",
    "        colors=colors,\n",
    "        autopct=lambda pct: f'{pct:.1f}%\\n({int(pct/100*sum(sizes)):,})',\n",
    "        startangle=90,\n",
    "        pctdistance=0.75,\n",
    "        wedgeprops=dict(width=0.5, edgecolor='white'),\n",
    "        textprops={'fontsize': 24, 'weight': 'bold'},\n",
    "    )\n",
    "\n",
    "    # Add total count in center\n",
    "    ax.text(0, 0, f'{sum(sizes)} genes\\nhave been\\nverified', \n",
    "            ha='center', va='center', fontsize=30, fontweight='bold')\n",
    "\n",
    "    # Equal aspect ratio ensures that pie is drawn as a circle\n",
    "    ax.axis('equal')\n",
    "\n",
    "    plt.savefig(data_config.output_dir / pdf_title, dpi=300)\n",
    "    plt.show()\n",
    "    plt.close()"
   ]
  },
  {
   "cell_type": "code",
   "execution_count": null,
   "id": "47c2999a",
   "metadata": {},
   "outputs": [],
   "source": [
    "donut_chart(WT2nonWT_um_dict, \"WT2nonWT_verification_donut_chart.pdf\")\n",
    "donut_chart(sc2E_um_dict, \"small_colonies_to_E_verification_donut_chart.pdf\")\n",
    "donut_chart(E2V_um_dict, \"E2V_verification_donut_chart.pdf\")"
   ]
  },
  {
   "cell_type": "code",
   "execution_count": null,
   "id": "86ada0be",
   "metadata": {},
   "outputs": [],
   "source": []
  }
 ],
 "metadata": {
  "kernelspec": {
   "display_name": "bioinformatics",
   "language": "python",
   "name": "python3"
  },
  "language_info": {
   "codemirror_mode": {
    "name": "ipython",
    "version": 3
   },
   "file_extension": ".py",
   "mimetype": "text/x-python",
   "name": "python",
   "nbconvert_exporter": "python",
   "pygments_lexer": "ipython3",
   "version": "3.12.11"
  }
 },
 "nbformat": 4,
 "nbformat_minor": 5
}
