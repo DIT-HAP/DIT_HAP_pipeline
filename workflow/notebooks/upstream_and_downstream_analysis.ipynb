{
 "cells": [
  {
   "cell_type": "code",
   "execution_count": 70,
   "metadata": {},
   "outputs": [],
   "source": [
    "from pathlib import Path\n",
    "from dataclasses import dataclass\n",
    "import pandas as pd\n",
    "from functools import cached_property\n",
    "import matplotlib.pyplot as plt\n",
    "from matplotlib.backends.backend_pdf import PdfPages\n",
    "\n",
    "plt.style.use(\"../../config/DIT_HAP.mplstyle\")\n",
    "COLORS = plt.rcParams[\"axes.prop_cycle\"].by_key()[\"color\"]\n",
    "AX_WIDTH, AX_HEIGHT = plt.rcParams[\"figure.figsize\"]"
   ]
  },
  {
   "cell_type": "markdown",
   "metadata": {},
   "source": [
    "# 1. Configuration"
   ]
  },
  {
   "cell_type": "code",
   "execution_count": null,
   "metadata": {},
   "outputs": [],
   "source": [
    "@dataclass\n",
    "class Config:\n",
    "    project_dir: Path = Path(\"../../results/HD_DIT_HAP_generationRAW\")\n",
    "    distance_threshold: int = 150\n",
    "    width: int = 10\n",
    "\n",
    "    @cached_property\n",
    "    def annotations(self):\n",
    "        return pd.read_csv(self.project_dir / \"12_concatenated/annotations.tsv\", sep=\"\\t\", index_col=[0,1,2,3])\n",
    "    \n",
    "    @cached_property\n",
    "    def insertion_level_results(self):\n",
    "        return pd.read_csv(self.project_dir / \"15_insertion_level_curve_fitting/insertion_level_fitting_statistics.tsv\", sep=\"\\t\", index_col=[0,1,2,3])\n",
    "    \n",
    "    @cached_property\n",
    "    def gene_level_results(self):\n",
    "        return pd.read_csv(self.project_dir / \"17_gene_level_curve_fitting/gene_level_fitting_statistics.tsv\", sep=\"\\t\", index_col=0)\n",
    "    \n",
    "    def __post_init__(self):\n",
    "        self.output_dir = self.project_dir / \"22_upstream_and_downstream_analysis\"\n",
    "        self.output_dir.mkdir(parents=True, exist_ok=True)\n",
    "\n",
    "        self.in_gene_insertions = self.annotations.query(\"Type != 'Intergenic region' and Distance_to_stop_codon > 4\").copy()\n",
    "    "
   ]
  },
  {
   "cell_type": "markdown",
   "metadata": {},
   "source": [
    "# 1.Load data"
   ]
  },
  {
   "cell_type": "code",
   "execution_count": 60,
   "metadata": {},
   "outputs": [],
   "source": [
    "data_config = Config()\n",
    "\n",
    "genes_with_wrong_DIT_HAP = [\n",
    "    \"hul6\",\n",
    "    \"sca1\",\n",
    "    \"pmc3\",\n",
    "    \"ymr1\",\n",
    "    \"mkh1\",\n",
    "    \"msn5\",\n",
    "    \"tsc2\",\n",
    "    \"phi1\",\n",
    "    \"mal1\",\n",
    "    \"num1\",\n",
    "    \"vps1301\",\n",
    "    \"SPCC24B10.18\",\n",
    "]\n",
    "\n",
    "non_essential_N_terminus = pd.read_excel(\"../../resources/non_esential_domain_candidates.xlsx\", sheet_name=\"Non-essential N terminus\")\n",
    "non_essential_C_terminus = pd.read_excel(\"../../resources/non_esential_domain_candidates.xlsx\", sheet_name=\"Non-essential C terminus\")\n",
    "non_essential_N_and_C_termini = pd.read_excel(\"../../resources/non_esential_domain_candidates.xlsx\", sheet_name=\"Non-essential N and C termini\")\n",
    "\n",
    "non_essential_domain_candidate_genes = non_essential_N_terminus[\"Gene\"].tolist() + non_essential_C_terminus[\"Gene\"].tolist() + non_essential_N_and_C_termini[\"Gene\"].tolist()"
   ]
  },
  {
   "cell_type": "markdown",
   "metadata": {},
   "source": [
    "# 2.Define the UTRs"
   ]
  },
  {
   "cell_type": "code",
   "execution_count": 61,
   "metadata": {},
   "outputs": [],
   "source": [
    "def assign_insertion_direction(insertion_strand: str, region_strand: str) -> str:\n",
    "    \"\"\"Assign the insertion direction to the insertion based on the insertion and region strands.\"\"\"\n",
    "    if insertion_strand == region_strand:\n",
    "        return \"Forward\"\n",
    "    else:\n",
    "        return \"Reverse\"\n",
    "\n",
    "\n",
    "def assign_UTR_type(row: pd.Series) -> tuple[str, str, str, int]:\n",
    "    \"\"\"Assign the UTR type to the insertion based on the distance to the gene boundary.\"\"\"\n",
    "    left_gene, right_gene = row[\"Name\"].split(\"|\")\n",
    "    left_strand, right_strand = row[\"Strand_Interval\"].split(\"|\")\n",
    "    insertion_strand = row.name[2]\n",
    "    Distance_to_region_start = row[\"Distance_to_region_start\"]\n",
    "    Distance_to_region_end = row[\"Distance_to_region_end\"]\n",
    "    Parental_gene = \"\"\n",
    "    Insertion_direction = \"\"\n",
    "    UTR_type = \"\"\n",
    "    Distance_to_gene_boundary = 0\n",
    "    if (Distance_to_region_start < 300) and (Distance_to_region_end > 300):\n",
    "        Parental_gene = left_gene\n",
    "        Insertion_direction = assign_insertion_direction(insertion_strand, left_strand)\n",
    "        if left_strand == \"+\":\n",
    "            UTR_type = \"3UTR\"\n",
    "            Distance_to_gene_boundary = Distance_to_region_start\n",
    "        else:\n",
    "            UTR_type = \"5UTR\"\n",
    "            Distance_to_gene_boundary = -Distance_to_region_start\n",
    "    elif (Distance_to_region_start > 300) and (Distance_to_region_end < 300):\n",
    "        Parental_gene = right_gene\n",
    "        Insertion_direction = assign_insertion_direction(insertion_strand, right_strand)\n",
    "        if right_strand == \"+\":\n",
    "            UTR_type = \"5UTR\"\n",
    "            Distance_to_gene_boundary = -Distance_to_region_end\n",
    "        else:\n",
    "            UTR_type = \"3UTR\"\n",
    "            Distance_to_gene_boundary = Distance_to_region_end\n",
    "    return Parental_gene, Insertion_direction, UTR_type, Distance_to_gene_boundary\n"
   ]
  },
  {
   "cell_type": "code",
   "execution_count": 62,
   "metadata": {},
   "outputs": [],
   "source": [
    "UTR_insertions = data_config.annotations.query(f\"Type == 'Intergenic region' and ((Distance_to_region_start < {data_config.distance_threshold}) or (Distance_to_region_end < {data_config.distance_threshold}))\").copy()\n",
    "UTR_insertions[[\"Parental_gene\", \"Insertion_direction\", \"UTR_type\", \"Distance_to_gene_boundary\"]] = UTR_insertions.apply(assign_UTR_type, axis=1, result_type=\"expand\")\n",
    "UTR_insertion_LFCs = pd.merge(data_config.insertion_level_results, UTR_insertions, left_index=True, right_index=True, how=\"inner\")\n",
    "UTR_insertion_LFCs = pd.merge(UTR_insertion_LFCs.reset_index(), data_config.gene_level_results, left_on=\"Parental_gene\", right_on=\"Name\", how=\"inner\", suffixes=(\"_insertion\", \"_gene\"))\n",
    "UTR_insertion_LFCs[\"A_ratio\"] = UTR_insertion_LFCs[\"A_insertion\"] / UTR_insertion_LFCs[\"A_gene\"]\n",
    "UTR_insertion_LFCs[\"um_ratio\"] = UTR_insertion_LFCs[\"um_insertion\"] / UTR_insertion_LFCs[\"um_gene\"]"
   ]
  },
  {
   "cell_type": "markdown",
   "metadata": {},
   "source": [
    "# 3. in-gene insertions"
   ]
  },
  {
   "cell_type": "code",
   "execution_count": 63,
   "metadata": {},
   "outputs": [],
   "source": [
    "in_gene_insertion_LFCs = pd.merge(data_config.insertion_level_results, data_config.in_gene_insertions, left_index=True, right_index=True, how=\"inner\")\n",
    "in_gene_insertion_LFCs = pd.merge(in_gene_insertion_LFCs.reset_index(), data_config.gene_level_results, on=\"Name\", how=\"inner\", suffixes=(\"_insertion\", \"_gene\"))\n",
    "in_gene_insertion_LFCs[\"A_ratio\"] = in_gene_insertion_LFCs[\"A_insertion\"] / in_gene_insertion_LFCs[\"A_gene\"]\n",
    "in_gene_insertion_LFCs[\"um_ratio\"] = in_gene_insertion_LFCs[\"um_insertion\"] / in_gene_insertion_LFCs[\"um_gene\"]"
   ]
  },
  {
   "cell_type": "markdown",
   "metadata": {},
   "source": [
    "# 4. Select the genes with growth contribution"
   ]
  },
  {
   "cell_type": "code",
   "execution_count": 64,
   "metadata": {},
   "outputs": [],
   "source": [
    "UTR_insertion_in_nonWT_genes = UTR_insertion_LFCs.query(\"(um_gene > 0.5)\").copy()\n",
    "UTR_genes = UTR_insertion_in_nonWT_genes[\"Parental_gene\"].unique().tolist()\n",
    "in_gene_insertion_in_nonWT_genes = in_gene_insertion_LFCs.query(\"(um_gene > 0.5) and Name in @UTR_genes\").copy()"
   ]
  },
  {
   "cell_type": "markdown",
   "metadata": {},
   "source": [
    "# 5.Plot"
   ]
  },
  {
   "cell_type": "code",
   "execution_count": 69,
   "metadata": {},
   "outputs": [],
   "source": [
    "def plot_UTR_gene_boundary_insertions(UTR_insertions, gene_insertions, feature=\"um_ratio\"):\n",
    "\n",
    "    fig, axes = plt.subplots(1,4, figsize=(20,5))\n",
    "\n",
    "    UTR_5 = UTR_insertions.query(\"UTR_type == '5UTR'\").copy()\n",
    "    N_terminal_insertions = gene_insertions.query(f\"Distance_to_start_codon < {data_config.distance_threshold}\").copy()\n",
    "    N_terminal_insertions[\"Distance_to_gene_boundary\"] = N_terminal_insertions[\"Distance_to_start_codon\"]\n",
    "    C_terminal_insertions = gene_insertions.query(f\"Distance_to_stop_codon < {data_config.distance_threshold}\").copy()\n",
    "    C_terminal_insertions[\"Distance_to_gene_boundary\"] = -C_terminal_insertions[\"Distance_to_stop_codon\"]\n",
    "    UTR_3 = UTR_insertions.query(\"UTR_type == '3UTR'\").copy()\n",
    "\n",
    "    width = data_config.width\n",
    "\n",
    "    titles = [\"Upstream\", \"N-terminus\", \"C-terminus\", \"Downstream\"]\n",
    "    for col, col_data in enumerate([UTR_5, N_terminal_insertions, C_terminal_insertions, UTR_3]):\n",
    "        ax = axes[col]\n",
    "        # boxplot with bins\n",
    "        x_bins = range(-data_config.distance_threshold, data_config.distance_threshold + 1, width)\n",
    "\n",
    "        match col:\n",
    "            case 0:\n",
    "                ax.set_xlabel(\"Distance to start codon (bp)\")\n",
    "            case 1:\n",
    "                ax.set_xlabel(\"Distance to start codon (bp)\")\n",
    "            case 2:\n",
    "                ax.set_xlabel(\"Distance to stop codon (bp)\")\n",
    "            case 3:\n",
    "                ax.set_xlabel(\"Distance to stop codon (bp)\")\n",
    "\n",
    "        \n",
    "        col_data[\"bin\"] = pd.cut(col_data[\"Distance_to_gene_boundary\"], bins=x_bins)\n",
    "        col_data[\"bin_mid\"] = col_data[\"bin\"].map(lambda x: x.mid)\n",
    "        grouped_data = col_data.groupby(\"bin_mid\", observed=True)[feature].apply(list).sort_index()\n",
    "        grouped_data = grouped_data[grouped_data.map(len) > 1]\n",
    "        positions = grouped_data.index.tolist()\n",
    "        boxplot_values = grouped_data.values.tolist()\n",
    "        bp = ax.boxplot(boxplot_values, positions=positions, widths=width*0.8, patch_artist=True, boxprops=dict(facecolor=\"grey\", alpha=0.5), showfliers=False)\n",
    "\n",
    "        ax.set_xticks([])\n",
    "        x_data = col_data[\"Distance_to_gene_boundary\"]\n",
    "        y_data = col_data[feature]\n",
    "        # ax.scatter(x_data, y_data, alpha=0.4, s=5, facecolor=\"none\", edgecolor=\"grey\")\n",
    "        ax.set_title(titles[col])\n",
    "        ax.set_ylim(-0.2, 1.7)\n",
    "       \n",
    "        ax.axhline(0, color=\"green\", linestyle=\"-\", linewidth=2, alpha=0.2)\n",
    "        ax.axhline(1, color=\"red\", linestyle=\"-\", linewidth=2, alpha=0.2)\n",
    "        if col > 0:\n",
    "            ax.spines[[\"left\", \"top\", \"right\"]].set_visible(False)\n",
    "            ax.set_yticks([])\n",
    "        else:\n",
    "            ax.spines[[\"top\", \"right\"]].set_visible(False)\n",
    "            ax.set_ylabel(\"DR ratio (insertion/gene)\")\n",
    "            ax.tick_params(axis=\"y\", which=\"both\")\n",
    "\n",
    "    # plt.show()\n",
    "    return fig"
   ]
  },
  {
   "cell_type": "code",
   "execution_count": 71,
   "metadata": {},
   "outputs": [],
   "source": [
    "pdf = PdfPages(data_config.output_dir / \"gene_boundary_insertions_analysis.pdf\")"
   ]
  },
  {
   "cell_type": "markdown",
   "metadata": {},
   "source": [
    "## 5.1 Plot UTR and gene boundary insertions"
   ]
  },
  {
   "cell_type": "code",
   "execution_count": 72,
   "metadata": {},
   "outputs": [],
   "source": [
    "fig = plot_UTR_gene_boundary_insertions(UTR_insertion_in_nonWT_genes, in_gene_insertion_in_nonWT_genes)\n",
    "fig.suptitle(f\"{data_config.width} bp per bin\")\n",
    "pdf.savefig(fig)\n",
    "plt.close()"
   ]
  },
  {
   "cell_type": "markdown",
   "metadata": {},
   "source": [
    "## 5.2 Plot Forward insertions"
   ]
  },
  {
   "cell_type": "code",
   "execution_count": 73,
   "metadata": {},
   "outputs": [],
   "source": [
    "Pair_UTR_insertion_in_nonWT_genes = UTR_insertion_in_nonWT_genes.groupby([\"Chr\", \"Coordinate\", \"Target\"]).filter(lambda x: x[\"Strand\"].unique().tolist() == [\"+\", \"-\"]).copy()\n",
    "Pair_in_gene_insertion_in_nonWT_genes = in_gene_insertion_in_nonWT_genes.groupby([\"Chr\", \"Coordinate\", \"Target\"]).filter(lambda x: x[\"Strand\"].unique().tolist() == [\"+\", \"-\"]).copy()"
   ]
  },
  {
   "cell_type": "code",
   "execution_count": 74,
   "metadata": {},
   "outputs": [],
   "source": [
    "Forward_UTR_insertion_in_nonWT_genes = Pair_UTR_insertion_in_nonWT_genes.query(\"Insertion_direction == 'Forward'\").copy()\n",
    "Forward_in_gene_insertion_in_nonWT_genes = Pair_in_gene_insertion_in_nonWT_genes.query(\"Insertion_direction == 'Forward'\").copy()\n",
    "fig = plot_UTR_gene_boundary_insertions(Forward_UTR_insertion_in_nonWT_genes, Forward_in_gene_insertion_in_nonWT_genes)\n",
    "fig.suptitle(f\"Forward insertions, {data_config.width} bp per bin\")\n",
    "pdf.savefig(fig)\n",
    "plt.close()"
   ]
  },
  {
   "cell_type": "markdown",
   "metadata": {},
   "source": [
    "## 5.3 Plot Reverse insertions"
   ]
  },
  {
   "cell_type": "code",
   "execution_count": 75,
   "metadata": {},
   "outputs": [],
   "source": [
    "Reverse_UTR_insertion_in_nonWT_genes = Pair_UTR_insertion_in_nonWT_genes.query(\"Insertion_direction == 'Reverse'\").copy()\n",
    "Reverse_in_gene_insertion_in_nonWT_genes = Pair_in_gene_insertion_in_nonWT_genes.query(\"Insertion_direction == 'Reverse'\").copy()\n",
    "fig = plot_UTR_gene_boundary_insertions(Reverse_UTR_insertion_in_nonWT_genes, Reverse_in_gene_insertion_in_nonWT_genes)\n",
    "fig.suptitle(f\"Reverse insertions, {data_config.width} bp per bin\")\n",
    "pdf.savefig(fig)\n",
    "plt.close()"
   ]
  },
  {
   "cell_type": "code",
   "execution_count": 76,
   "metadata": {},
   "outputs": [],
   "source": [
    "pdf.close()"
   ]
  },
  {
   "cell_type": "code",
   "execution_count": null,
   "metadata": {},
   "outputs": [],
   "source": []
  }
 ],
 "metadata": {
  "kernelspec": {
   "display_name": "bioinformatics",
   "language": "python",
   "name": "python3"
  },
  "language_info": {
   "codemirror_mode": {
    "name": "ipython",
    "version": 3
   },
   "file_extension": ".py",
   "mimetype": "text/x-python",
   "name": "python",
   "nbconvert_exporter": "python",
   "pygments_lexer": "ipython3",
   "version": "3.12.11"
  }
 },
 "nbformat": 4,
 "nbformat_minor": 2
}
