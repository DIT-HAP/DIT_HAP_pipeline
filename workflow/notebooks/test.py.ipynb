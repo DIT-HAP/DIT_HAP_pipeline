{
 "cells": [
  {
   "cell_type": "markdown",
   "metadata": {},
   "source": [
    "# Table of contents\n",
    "1. Load Modules\n",
    "2. Parse GFF file\n",
    "3. Extract coding genes\n",
    "4. Extract CDS and intron of coding genes\n",
    "5. Extract metadata of CDS and intron of coding genes\n",
    "6. Merge metadata of coding genes and CDS and intron of coding genes\n",
    "7. Save metadata of coding genes\n"
   ]
  },
  {
   "cell_type": "markdown",
   "metadata": {},
   "source": [
    "# 1. Load Modules"
   ]
  },
  {
   "cell_type": "code",
   "execution_count": 6,
   "metadata": {},
   "outputs": [],
   "source": [
    "import numpy as np\n",
    "import pandas as pd\n",
    "import re\n",
    "from pybedtools import BedTool"
   ]
  },
  {
   "cell_type": "markdown",
   "metadata": {},
   "source": [
    "# 2. Parse GFF file"
   ]
  },
  {
   "cell_type": "code",
   "execution_count": 23,
   "metadata": {},
   "outputs": [],
   "source": [
    "def extract_transcript_id(row):\n",
    "    attribute = row[\"Attribute\"]\n",
    "    ID_pattern = re.compile(r\"ID=(\\S+?)(?:|(:\\S+));\")\n",
    "    Parent_pattern = re.compile(r\"Parent=(\\S+?)$\")\n",
    "    if row[\"Feature\"] in [\"mRNA\", \"tRNA\", \"rRNA\", \"snoRNA\", \"snRNA\", \"lncRNA\"]:\n",
    "        return re.search(ID_pattern, attribute).group(1)\n",
    "    elif \"Parent\" in attribute:\n",
    "        Parent = re.search(Parent_pattern, attribute).group(1)\n",
    "        return Parent\n",
    "    else:\n",
    "        return np.nan\n",
    "\n",
    "def parse_gff_file(gff_file):\n",
    "    GFF = pd.read_csv(\n",
    "        gff_file,\n",
    "        sep=\"\\t\",\n",
    "        comment=\"#\",\n",
    "        names=[\n",
    "            \"Chr\",\n",
    "            \"Source\",\n",
    "            \"Feature\",\n",
    "            \"Start\",\n",
    "            \"End\",\n",
    "            \"Score\",\n",
    "            \"Strand\",\n",
    "            \"Frame\",\n",
    "            \"Attribute\",\n",
    "        ],\n",
    "    )\n",
    "\n",
    "    extract_systematic_ID_pattern = re.compile(\n",
    "        r\"ID=(\\S+?)(?:$|(?:|\\.\\d(?::\\S+|));)\")\n",
    "    GFF[\"Systematic ID\"] = GFF[\"Attribute\"].str.extract(\n",
    "        extract_systematic_ID_pattern, expand=False\n",
    "    )\n",
    "    GFF[\"Transcript\"] = GFF.apply(extract_transcript_id, axis=1)\n",
    "\n",
    "    chr_order = [\"chr_II_telomeric_gap\", \"I\", \"II\", \"III\", \"mating_type_region\", \"mitochondrial\"]\n",
    "    GFF[\"Chr\"] = pd.Categorical(GFF[\"Chr\"], categories=chr_order, ordered=True)\n",
    "\n",
    "    return GFF"
   ]
  },
  {
   "cell_type": "code",
   "execution_count": 18,
   "metadata": {},
   "outputs": [],
   "source": [
    "gff_file = \"/data/c/yangyusheng_optimized/DIT_HAP_pipeline/resources/pombase_data/2025-05-01/gff/Schizosaccharomyces_pombe_all_chromosomes.gff3\"\n",
    "gff = parse_gff_file(gff_file)\n",
    "fai_file = \"/data/c/yangyusheng_optimized/DIT_HAP_pipeline/resources/pombase_data/2025-05-01/fasta/Schizosaccharomyces_pombe_all_chromosomes.fa.fai\"\n"
   ]
  },
  {
   "cell_type": "code",
   "execution_count": 9,
   "metadata": {},
   "outputs": [],
   "source": [
    "PeptideStats = pd.read_csv(\"/data/c/yangyusheng_optimized/DIT_HAP_pipeline/resources/pombase_data/2025-05-01/Protein_features/PeptideStats.tsv\", sep=\"\\t\")\n",
    "primary_peptide_length = dict(zip(PeptideStats[\"Systematic_ID\"], PeptideStats[\"Residues\"]))"
   ]
  },
  {
   "cell_type": "code",
   "execution_count": 10,
   "metadata": {},
   "outputs": [
    {
     "data": {
      "text/plain": [
       "Feature\n",
       "gene                                       12685\n",
       "CDS                                        10321\n",
       "exon                                        7574\n",
       "lncRNA                                      7166\n",
       "intron                                      5337\n",
       "mRNA                                        5145\n",
       "three_prime_UTR                             4798\n",
       "five_prime_UTR                              4635\n",
       "long_terminal_repeat                         238\n",
       "tRNA                                         196\n",
       "snoRNA                                        66\n",
       "promoter                                      62\n",
       "low_complexity_region                         59\n",
       "rRNA                                          49\n",
       "repeat_region                                 44\n",
       "sncRNA                                        38\n",
       "pseudogenic_transcript                        31\n",
       "region                                        28\n",
       "nuclear_mt_pseudogene                         17\n",
       "dh_repeat                                     16\n",
       "LTR_retrotransposon                           14\n",
       "dg_repeat                                     11\n",
       "snRNA                                          7\n",
       "origin_of_replication                          7\n",
       "regional_centromere_inner_repeat_region        6\n",
       "gene_group                                     5\n",
       "gap                                            4\n",
       "regional_centromere                            3\n",
       "regional_centromere_central_core               3\n",
       "TR_box                                         2\n",
       "mating_type_region                             1\n",
       "Name: count, dtype: int64"
      ]
     },
     "execution_count": 10,
     "metadata": {},
     "output_type": "execute_result"
    }
   ],
   "source": [
    "gff[\"Feature\"].value_counts()"
   ]
  },
  {
   "cell_type": "code",
   "execution_count": 11,
   "metadata": {},
   "outputs": [
    {
     "name": "stdout",
     "output_type": "stream",
     "text": [
      "mRNA\n"
     ]
    },
    {
     "data": {
      "text/plain": [
       "Feature\n",
       "CDS                10249\n",
       "intron              5244\n",
       "mRNA                5145\n",
       "gene                5134\n",
       "three_prime_UTR     4796\n",
       "five_prime_UTR      4633\n",
       "Name: count, dtype: int64"
      ]
     },
     "metadata": {},
     "output_type": "display_data"
    },
    {
     "name": "stdout",
     "output_type": "stream",
     "text": [
      "tRNA\n"
     ]
    },
    {
     "data": {
      "text/plain": [
       "Feature\n",
       "exon      240\n",
       "gene      196\n",
       "tRNA      196\n",
       "intron     44\n",
       "Name: count, dtype: int64"
      ]
     },
     "metadata": {},
     "output_type": "display_data"
    },
    {
     "name": "stdout",
     "output_type": "stream",
     "text": [
      "rRNA\n"
     ]
    },
    {
     "data": {
      "text/plain": [
       "Feature\n",
       "gene    49\n",
       "rRNA    49\n",
       "exon    49\n",
       "Name: count, dtype: int64"
      ]
     },
     "metadata": {},
     "output_type": "display_data"
    },
    {
     "name": "stdout",
     "output_type": "stream",
     "text": [
      "snoRNA\n"
     ]
    },
    {
     "data": {
      "text/plain": [
       "Feature\n",
       "exon      68\n",
       "gene      66\n",
       "snoRNA    66\n",
       "intron     2\n",
       "Name: count, dtype: int64"
      ]
     },
     "metadata": {},
     "output_type": "display_data"
    },
    {
     "name": "stdout",
     "output_type": "stream",
     "text": [
      "snRNA\n"
     ]
    },
    {
     "data": {
      "text/plain": [
       "Feature\n",
       "exon      8\n",
       "gene      7\n",
       "snRNA     7\n",
       "intron    1\n",
       "Name: count, dtype: int64"
      ]
     },
     "metadata": {},
     "output_type": "display_data"
    },
    {
     "name": "stdout",
     "output_type": "stream",
     "text": [
      "lncRNA\n"
     ]
    },
    {
     "data": {
      "text/plain": [
       "Feature\n",
       "exon      7171\n",
       "lncRNA    7166\n",
       "gene      7164\n",
       "intron       5\n",
       "Name: count, dtype: int64"
      ]
     },
     "metadata": {},
     "output_type": "display_data"
    }
   ],
   "source": [
    "for type in [\"mRNA\", \"tRNA\", \"rRNA\", \"snoRNA\", \"snRNA\", \"lncRNA\"]:\n",
    "    genes = gff.query(f\"Feature == '{type}'\")[\"Systematic ID\"].unique().tolist()\n",
    "    type_counts = gff.query(\"`Systematic ID` in @genes\")[\"Feature\"].value_counts()\n",
    "    print(type)\n",
    "    display(type_counts)"
   ]
  },
  {
   "cell_type": "code",
   "execution_count": 12,
   "metadata": {},
   "outputs": [],
   "source": [
    "coding_genes = gff.query(\"Feature == 'mRNA'\")[\"Systematic ID\"].unique().tolist()\n",
    "tRNAs = gff.query(\"Feature == 'tRNA'\")[\"Systematic ID\"].unique().tolist()\n",
    "rRNAs = gff.query(\"Feature == 'rRNA'\")[\"Systematic ID\"].unique().tolist()\n",
    "snoRNAs = gff.query(\"Feature == 'snoRNA'\")[\"Systematic ID\"].unique().tolist()\n",
    "snRNAs = gff.query(\"Feature == 'snRNA'\")[\"Systematic ID\"].unique().tolist()\n",
    "lncRNAs = gff.query(\"Feature == 'lncRNA'\")[\"Systematic ID\"].unique().tolist()"
   ]
  },
  {
   "cell_type": "code",
   "execution_count": 51,
   "metadata": {},
   "outputs": [],
   "source": [
    "def cal_accumlated_CDS_bases(sub_df):\n",
    "\n",
    "    sub_df_sorted = sub_df.sort_values([\"Start\"]).copy()\n",
    "    accumulated_CDS_bases = 0\n",
    "    strand = sub_df_sorted[\"Strand\"].iloc[0]\n",
    "    if strand == \"+\":\n",
    "        index_order = sub_df_sorted.index\n",
    "    else:\n",
    "        index_order = sub_df_sorted.index[::-1]\n",
    "    for idx in index_order:\n",
    "        if sub_df_sorted.loc[idx, \"Feature\"] == \"CDS\":\n",
    "            sub_df_sorted.loc[idx,\n",
    "                              \"Accumulated_CDS_bases\"] = accumulated_CDS_bases\n",
    "            accumulated_CDS_bases += sub_df_sorted.loc[idx, \"Length\"]\n",
    "        else:\n",
    "            sub_df_sorted.loc[idx,\n",
    "                              \"Accumulated_CDS_bases\"] = accumulated_CDS_bases\n",
    "\n",
    "    return (sub_df_sorted)"
   ]
  },
  {
   "cell_type": "code",
   "execution_count": 52,
   "metadata": {},
   "outputs": [],
   "source": [
    "def gff_to_bed(sub_df, type, primary_peptide_length=None):\n",
    "\n",
    "    bed = sub_df.copy()\n",
    "    # switch 1-based to 0-based\n",
    "    bed[\"Start\"] = bed[\"Start\"] - 1\n",
    "\n",
    "    bed[\"Length\"] = (\n",
    "        bed[\"End\"] - bed[\"Start\"]\n",
    "    )\n",
    "\n",
    "    bed_columns = [\"Chr\", \"Start\", \"End\", \"Transcript\", \"Length\", \"Strand\"]\n",
    "    other_columns = [\"Feature\", \"Systematic ID\", \"Type\"]\n",
    "\n",
    "    if type == \"Coding gene\":\n",
    "        feature_for_boundary = \"CDS\"\n",
    "        CDS_length = bed.query(\"Feature == @feature_for_boundary\")[\"Length\"].sum()\n",
    "        bed = cal_accumlated_CDS_bases(bed)\n",
    "        if int(CDS_length//3 -1) == primary_peptide_length[bed[\"Systematic ID\"].iloc[0]]:\n",
    "            bed[\"Primary_transcript\"] = \"Yes\"\n",
    "        else:\n",
    "            bed[\"Primary_transcript\"] = \"No\"\n",
    "\n",
    "        other_columns.extend([\"Primary_transcript\", \"Accumulated_CDS_bases\"])\n",
    "    else:\n",
    "        feature_for_boundary = \"exon\"\n",
    "\n",
    "    boundary_left = bed.query(\"Feature == @feature_for_boundary\")[\"Start\"].min()\n",
    "    boundary_right = bed.query(\"Feature == @feature_for_boundary\")[\"End\"].max()\n",
    "\n",
    "    filtered_bed = bed.query(\"Start >= @boundary_left and End <= @boundary_right\").copy()\n",
    "\n",
    "    filtered_bed.insert(4, \"Type\", type)\n",
    "\n",
    "    \n",
    "    \n",
    "    filtered_bed = filtered_bed[bed_columns + other_columns].rename(\n",
    "                columns={\"Chr\": \"#Chr\"}\n",
    "            ).sort_values([\"#Chr\"] + bed_columns[1:])\n",
    "\n",
    "    return filtered_bed\n",
    "\n",
    "\n",
    "coding_bed = gff.query(\"`Systematic ID` in @coding_genes and (Feature == 'CDS' or Feature == 'intron')\").groupby([\"Systematic ID\", \"Transcript\"], as_index=False).apply(gff_to_bed, type=\"Coding gene\", primary_peptide_length=primary_peptide_length).reset_index(drop=True)"
   ]
  },
  {
   "cell_type": "code",
   "execution_count": 53,
   "metadata": {},
   "outputs": [],
   "source": [
    "same_CDS_different_UTR_genes = coding_bed.query(\"Primary_transcript == 'Yes'\").groupby(\"Systematic ID\")[\"Transcript\"].apply(lambda x: len(x.unique())).to_frame().query(\"Transcript > 1\")"
   ]
  },
  {
   "cell_type": "markdown",
   "metadata": {},
   "source": []
  },
  {
   "cell_type": "code",
   "execution_count": 54,
   "metadata": {},
   "outputs": [],
   "source": [
    "# only keep the first transcript\n",
    "coding_bed[\"Primary_transcript\"] = coding_bed.apply(lambda row: row[\"Primary_transcript\"] if row[\"Systematic ID\"] not in same_CDS_different_UTR_genes.index else (\"Yes\" if row[\"Transcript\"].endswith(\".1\") else \"No\"), axis=1)"
   ]
  },
  {
   "cell_type": "code",
   "execution_count": 72,
   "metadata": {},
   "outputs": [
    {
     "data": {
      "text/plain": [
       "Primary_transcript\n",
       "Yes    15254\n",
       "No        79\n",
       "Name: count, dtype: int64"
      ]
     },
     "execution_count": 72,
     "metadata": {},
     "output_type": "execute_result"
    }
   ],
   "source": [
    "coding_bed[\"Primary_transcript\"].value_counts()"
   ]
  },
  {
   "cell_type": "code",
   "execution_count": 55,
   "metadata": {},
   "outputs": [],
   "source": [
    "primary_transcript_bed = coding_bed.query(\"Primary_transcript == 'Yes'\")"
   ]
  },
  {
   "cell_type": "code",
   "execution_count": 56,
   "metadata": {},
   "outputs": [
    {
     "name": "stderr",
     "output_type": "stream",
     "text": [
      "/tmp/ipykernel_3325135/3028830240.py:2: SettingWithCopyWarning: \n",
      "A value is trying to be set on a copy of a slice from a DataFrame.\n",
      "Try using .loc[row_indexer,col_indexer] = value instead\n",
      "\n",
      "See the caveats in the documentation: https://pandas.pydata.org/pandas-docs/stable/user_guide/indexing.html#returning-a-view-versus-a-copy\n",
      "  primary_transcript_bed[\"#Chr\"] = pd.Categorical(primary_transcript_bed[\"#Chr\"], categories=chr_order, ordered=True)\n"
     ]
    }
   ],
   "source": [
    "chr_order = [\"chr_II_telomeric_gap\", \"I\", \"II\", \"III\", \"mating_type_region\", \"mitochondrial\"]\n",
    "primary_transcript_bed[\"#Chr\"] = pd.Categorical(primary_transcript_bed[\"#Chr\"], categories=chr_order, ordered=True)\n",
    "primary_transcript_bed = primary_transcript_bed.sort_values([\"#Chr\", \"Start\", \"End\", \"Transcript\", \"Length\", \"Strand\"])"
   ]
  },
  {
   "cell_type": "code",
   "execution_count": 70,
   "metadata": {},
   "outputs": [],
   "source": [
    "primary_transcript_bed.to_csv(\"./test_transcript.csv\", index=False)"
   ]
  },
  {
   "cell_type": "code",
   "execution_count": 57,
   "metadata": {},
   "outputs": [],
   "source": [
    "primary_transcript_bedtool = BedTool.from_dataframe(primary_transcript_bed)"
   ]
  },
  {
   "cell_type": "code",
   "execution_count": 58,
   "metadata": {},
   "outputs": [],
   "source": [
    "intergenic_bed = primary_transcript_bedtool.complement(g=fai_file).to_dataframe()\n"
   ]
  },
  {
   "cell_type": "code",
   "execution_count": 59,
   "metadata": {},
   "outputs": [],
   "source": [
    "intergenic_bed = intergenic_bed.rename(columns={\"chrom\": \"#Chr\", \"start\": \"Start\", \"end\": \"End\"})"
   ]
  },
  {
   "cell_type": "code",
   "execution_count": 63,
   "metadata": {},
   "outputs": [
    {
     "data": {
      "text/html": [
       "<div>\n",
       "<style scoped>\n",
       "    .dataframe tbody tr th:only-of-type {\n",
       "        vertical-align: middle;\n",
       "    }\n",
       "\n",
       "    .dataframe tbody tr th {\n",
       "        vertical-align: top;\n",
       "    }\n",
       "\n",
       "    .dataframe thead th {\n",
       "        text-align: right;\n",
       "    }\n",
       "</style>\n",
       "<table border=\"1\" class=\"dataframe\">\n",
       "  <thead>\n",
       "    <tr style=\"text-align: right;\">\n",
       "      <th></th>\n",
       "      <th>#Chr</th>\n",
       "      <th>Start</th>\n",
       "      <th>End</th>\n",
       "      <th>Transcript</th>\n",
       "      <th>Systematic ID</th>\n",
       "      <th>Strand</th>\n",
       "      <th>Length</th>\n",
       "      <th>Feature</th>\n",
       "      <th>Type</th>\n",
       "    </tr>\n",
       "  </thead>\n",
       "  <tbody>\n",
       "    <tr>\n",
       "      <th>0</th>\n",
       "      <td>chr_II_telomeric_gap</td>\n",
       "      <td>0</td>\n",
       "      <td>1478</td>\n",
       "      <td>Boundary|SPBC460.01c.1</td>\n",
       "      <td>Boundary|SPBC460.01c</td>\n",
       "      <td>Boundary|-</td>\n",
       "      <td>1478</td>\n",
       "      <td>Intergenic region</td>\n",
       "      <td>Intergenic region</td>\n",
       "    </tr>\n",
       "    <tr>\n",
       "      <th>1</th>\n",
       "      <td>chr_II_telomeric_gap</td>\n",
       "      <td>3197</td>\n",
       "      <td>8855</td>\n",
       "      <td>SPBC460.01c.1|SPBC460.02c.1</td>\n",
       "      <td>SPBC460.01c|SPBC460.02c</td>\n",
       "      <td>-|-</td>\n",
       "      <td>5658</td>\n",
       "      <td>Intergenic region</td>\n",
       "      <td>Intergenic region</td>\n",
       "    </tr>\n",
       "    <tr>\n",
       "      <th>2</th>\n",
       "      <td>chr_II_telomeric_gap</td>\n",
       "      <td>9803</td>\n",
       "      <td>11640</td>\n",
       "      <td>SPBC460.02c.1|SPBC460.03.1</td>\n",
       "      <td>SPBC460.02c|SPBC460.03</td>\n",
       "      <td>-|+</td>\n",
       "      <td>1837</td>\n",
       "      <td>Intergenic region</td>\n",
       "      <td>Intergenic region</td>\n",
       "    </tr>\n",
       "    <tr>\n",
       "      <th>3</th>\n",
       "      <td>chr_II_telomeric_gap</td>\n",
       "      <td>13344</td>\n",
       "      <td>14072</td>\n",
       "      <td>SPBC460.03.1|SPBC460.04c.1</td>\n",
       "      <td>SPBC460.03|SPBC460.04c</td>\n",
       "      <td>+|-</td>\n",
       "      <td>728</td>\n",
       "      <td>Intergenic region</td>\n",
       "      <td>Intergenic region</td>\n",
       "    </tr>\n",
       "    <tr>\n",
       "      <th>4</th>\n",
       "      <td>chr_II_telomeric_gap</td>\n",
       "      <td>15248</td>\n",
       "      <td>16469</td>\n",
       "      <td>SPBC460.04c.1|SPBC460.05.1</td>\n",
       "      <td>SPBC460.04c|SPBC460.05</td>\n",
       "      <td>-|+</td>\n",
       "      <td>1221</td>\n",
       "      <td>Intergenic region</td>\n",
       "      <td>Intergenic region</td>\n",
       "    </tr>\n",
       "    <tr>\n",
       "      <th>...</th>\n",
       "      <td>...</td>\n",
       "      <td>...</td>\n",
       "      <td>...</td>\n",
       "      <td>...</td>\n",
       "      <td>...</td>\n",
       "      <td>...</td>\n",
       "      <td>...</td>\n",
       "      <td>...</td>\n",
       "      <td>...</td>\n",
       "    </tr>\n",
       "    <tr>\n",
       "      <th>5101</th>\n",
       "      <td>mitochondrial</td>\n",
       "      <td>15531</td>\n",
       "      <td>15955</td>\n",
       "      <td>SPMIT.07.1|SPMIT.08.1</td>\n",
       "      <td>SPMIT.07|SPMIT.08</td>\n",
       "      <td>+|+</td>\n",
       "      <td>424</td>\n",
       "      <td>Intergenic region</td>\n",
       "      <td>Intergenic region</td>\n",
       "    </tr>\n",
       "    <tr>\n",
       "      <th>5102</th>\n",
       "      <td>mitochondrial</td>\n",
       "      <td>16639</td>\n",
       "      <td>16915</td>\n",
       "      <td>SPMIT.08.1|SPMIT.09.1</td>\n",
       "      <td>SPMIT.08|SPMIT.09</td>\n",
       "      <td>+|+</td>\n",
       "      <td>276</td>\n",
       "      <td>Intergenic region</td>\n",
       "      <td>Intergenic region</td>\n",
       "    </tr>\n",
       "    <tr>\n",
       "      <th>5103</th>\n",
       "      <td>mitochondrial</td>\n",
       "      <td>17062</td>\n",
       "      <td>17807</td>\n",
       "      <td>SPMIT.09.1|SPMIT.10.1</td>\n",
       "      <td>SPMIT.09|SPMIT.10</td>\n",
       "      <td>+|+</td>\n",
       "      <td>745</td>\n",
       "      <td>Intergenic region</td>\n",
       "      <td>Intergenic region</td>\n",
       "    </tr>\n",
       "    <tr>\n",
       "      <th>5104</th>\n",
       "      <td>mitochondrial</td>\n",
       "      <td>18032</td>\n",
       "      <td>18562</td>\n",
       "      <td>SPMIT.10.1|SPMIT.11.1</td>\n",
       "      <td>SPMIT.10|SPMIT.11</td>\n",
       "      <td>+|+</td>\n",
       "      <td>530</td>\n",
       "      <td>Intergenic region</td>\n",
       "      <td>Intergenic region</td>\n",
       "    </tr>\n",
       "    <tr>\n",
       "      <th>5105</th>\n",
       "      <td>mitochondrial</td>\n",
       "      <td>19309</td>\n",
       "      <td>19433</td>\n",
       "      <td>SPMIT.11.1|Boundary</td>\n",
       "      <td>SPMIT.11|Boundary</td>\n",
       "      <td>+|Boundary</td>\n",
       "      <td>124</td>\n",
       "      <td>Intergenic region</td>\n",
       "      <td>Intergenic region</td>\n",
       "    </tr>\n",
       "  </tbody>\n",
       "</table>\n",
       "<p>5106 rows × 9 columns</p>\n",
       "</div>"
      ],
      "text/plain": [
       "                      #Chr  Start    End                   Transcript  \\\n",
       "0     chr_II_telomeric_gap      0   1478       Boundary|SPBC460.01c.1   \n",
       "1     chr_II_telomeric_gap   3197   8855  SPBC460.01c.1|SPBC460.02c.1   \n",
       "2     chr_II_telomeric_gap   9803  11640   SPBC460.02c.1|SPBC460.03.1   \n",
       "3     chr_II_telomeric_gap  13344  14072   SPBC460.03.1|SPBC460.04c.1   \n",
       "4     chr_II_telomeric_gap  15248  16469   SPBC460.04c.1|SPBC460.05.1   \n",
       "...                    ...    ...    ...                          ...   \n",
       "5101         mitochondrial  15531  15955        SPMIT.07.1|SPMIT.08.1   \n",
       "5102         mitochondrial  16639  16915        SPMIT.08.1|SPMIT.09.1   \n",
       "5103         mitochondrial  17062  17807        SPMIT.09.1|SPMIT.10.1   \n",
       "5104         mitochondrial  18032  18562        SPMIT.10.1|SPMIT.11.1   \n",
       "5105         mitochondrial  19309  19433          SPMIT.11.1|Boundary   \n",
       "\n",
       "                Systematic ID      Strand  Length            Feature  \\\n",
       "0        Boundary|SPBC460.01c  Boundary|-    1478  Intergenic region   \n",
       "1     SPBC460.01c|SPBC460.02c         -|-    5658  Intergenic region   \n",
       "2      SPBC460.02c|SPBC460.03         -|+    1837  Intergenic region   \n",
       "3      SPBC460.03|SPBC460.04c         +|-     728  Intergenic region   \n",
       "4      SPBC460.04c|SPBC460.05         -|+    1221  Intergenic region   \n",
       "...                       ...         ...     ...                ...   \n",
       "5101        SPMIT.07|SPMIT.08         +|+     424  Intergenic region   \n",
       "5102        SPMIT.08|SPMIT.09         +|+     276  Intergenic region   \n",
       "5103        SPMIT.09|SPMIT.10         +|+     745  Intergenic region   \n",
       "5104        SPMIT.10|SPMIT.11         +|+     530  Intergenic region   \n",
       "5105        SPMIT.11|Boundary  +|Boundary     124  Intergenic region   \n",
       "\n",
       "                   Type  \n",
       "0     Intergenic region  \n",
       "1     Intergenic region  \n",
       "2     Intergenic region  \n",
       "3     Intergenic region  \n",
       "4     Intergenic region  \n",
       "...                 ...  \n",
       "5101  Intergenic region  \n",
       "5102  Intergenic region  \n",
       "5103  Intergenic region  \n",
       "5104  Intergenic region  \n",
       "5105  Intergenic region  \n",
       "\n",
       "[5106 rows x 9 columns]"
      ]
     },
     "execution_count": 63,
     "metadata": {},
     "output_type": "execute_result"
    }
   ],
   "source": [
    "intergenic_bed"
   ]
  },
  {
   "cell_type": "code",
   "execution_count": 60,
   "metadata": {},
   "outputs": [
    {
     "name": "stdout",
     "output_type": "stream",
     "text": [
      "No left flank for chr_II_telomeric_gap:0-1478\n",
      "No right flank for chr_II_telomeric_gap:18062-20000\n",
      "No left flank for II:0-303\n",
      "No right flank for II:4532644-4539804\n",
      "No left flank for III:0-28679\n",
      "No right flank for III:2435662-2452883\n",
      "No left flank for mating_type_region:0-3353\n",
      "No right flank for mating_type_region:4368-20128\n",
      "No left flank for mitochondrial:0-4884\n",
      "No right flank for mitochondrial:19309-19433\n"
     ]
    }
   ],
   "source": [
    "def annotate_intergenic_bed(row, primary_transcript_bed):\n",
    "    chrom = row[\"#Chr\"]\n",
    "    start = row[\"Start\"]\n",
    "    end = row[\"End\"]\n",
    "\n",
    "    left_flank = primary_transcript_bed[(primary_transcript_bed[\"#Chr\"]==chrom) & (primary_transcript_bed[\"End\"]==start)]\n",
    "    right_flank = primary_transcript_bed[(primary_transcript_bed[\"#Chr\"]==chrom) & (primary_transcript_bed[\"Start\"]==end)]\n",
    "\n",
    "    if left_flank.empty:\n",
    "        left_flank_transcript = \"Boundary\"\n",
    "        left_flank_systematic_id = \"Boundary\"\n",
    "        left_flank_strand = \"Boundary\"\n",
    "        print(f\"No left flank for {chrom}:{start}-{end}\")\n",
    "    elif left_flank.shape[0] > 1:\n",
    "        left_flank_transcript = \"multiple\"\n",
    "        left_flank_systematic_id = \"multiple\"\n",
    "        left_flank_strand = \"multiple\"\n",
    "        print(f\"Multiple left flank for {chrom}:{start}-{end}\")\n",
    "        display(left_flank)\n",
    "    else:\n",
    "        left_flank_transcript = left_flank[\"Transcript\"].iloc[0]\n",
    "        left_flank_systematic_id = left_flank[\"Systematic ID\"].iloc[0]\n",
    "        left_flank_strand = left_flank[\"Strand\"].iloc[0]\n",
    "\n",
    "    if right_flank.empty:\n",
    "        right_flank_transcript = \"Boundary\"\n",
    "        right_flank_systematic_id = \"Boundary\"\n",
    "        right_flank_strand = \"Boundary\"\n",
    "        print(f\"No right flank for {chrom}:{start}-{end}\")\n",
    "    elif right_flank.shape[0] > 1:\n",
    "        right_flank_transcript = \"multiple\"\n",
    "        right_flank_systematic_id = \"multiple\"\n",
    "        right_flank_strand = \"multiple\"\n",
    "        print(f\"Multiple right flank for {chrom}:{start}-{end}\")\n",
    "        display(right_flank)\n",
    "    else:\n",
    "        right_flank_transcript = right_flank[\"Transcript\"].iloc[0]\n",
    "        right_flank_systematic_id = right_flank[\"Systematic ID\"].iloc[0]\n",
    "        right_flank_strand = right_flank[\"Strand\"].iloc[0]\n",
    "\n",
    "    flank = {\n",
    "        \"Transcript\": left_flank_transcript + \"|\" + right_flank_transcript,\n",
    "        \"Systematic ID\": left_flank_systematic_id + \"|\" + right_flank_systematic_id,\n",
    "        \"Strand\": left_flank_strand + \"|\" + right_flank_strand\n",
    "    }\n",
    "\n",
    "    return pd.Series(flank)\n",
    "\n",
    "intergenic_bed[[\"Transcript\", \"Systematic ID\", \"Strand\"]] = intergenic_bed.apply(lambda row: annotate_intergenic_bed(row, primary_transcript_bed), axis=1)"
   ]
  },
  {
   "cell_type": "code",
   "execution_count": 61,
   "metadata": {},
   "outputs": [],
   "source": [
    "intergenic_bed[\"Length\"] = intergenic_bed[\"End\"] - intergenic_bed[\"Start\"]\n",
    "intergenic_bed[\"Feature\"] = \"Intergenic region\"\n",
    "intergenic_bed[\"Type\"] = \"Intergenic region\"\n"
   ]
  },
  {
   "cell_type": "code",
   "execution_count": 62,
   "metadata": {},
   "outputs": [
    {
     "data": {
      "text/html": [
       "<div>\n",
       "<style scoped>\n",
       "    .dataframe tbody tr th:only-of-type {\n",
       "        vertical-align: middle;\n",
       "    }\n",
       "\n",
       "    .dataframe tbody tr th {\n",
       "        vertical-align: top;\n",
       "    }\n",
       "\n",
       "    .dataframe thead th {\n",
       "        text-align: right;\n",
       "    }\n",
       "</style>\n",
       "<table border=\"1\" class=\"dataframe\">\n",
       "  <thead>\n",
       "    <tr style=\"text-align: right;\">\n",
       "      <th></th>\n",
       "      <th>#Chr</th>\n",
       "      <th>Start</th>\n",
       "      <th>End</th>\n",
       "      <th>Transcript</th>\n",
       "      <th>Systematic ID</th>\n",
       "      <th>Strand</th>\n",
       "      <th>Length</th>\n",
       "      <th>Feature</th>\n",
       "      <th>Type</th>\n",
       "    </tr>\n",
       "  </thead>\n",
       "  <tbody>\n",
       "    <tr>\n",
       "      <th>0</th>\n",
       "      <td>chr_II_telomeric_gap</td>\n",
       "      <td>0</td>\n",
       "      <td>1478</td>\n",
       "      <td>Boundary|SPBC460.01c.1</td>\n",
       "      <td>Boundary|SPBC460.01c</td>\n",
       "      <td>Boundary|-</td>\n",
       "      <td>1478</td>\n",
       "      <td>Intergenic region</td>\n",
       "      <td>Intergenic region</td>\n",
       "    </tr>\n",
       "    <tr>\n",
       "      <th>1</th>\n",
       "      <td>chr_II_telomeric_gap</td>\n",
       "      <td>3197</td>\n",
       "      <td>8855</td>\n",
       "      <td>SPBC460.01c.1|SPBC460.02c.1</td>\n",
       "      <td>SPBC460.01c|SPBC460.02c</td>\n",
       "      <td>-|-</td>\n",
       "      <td>5658</td>\n",
       "      <td>Intergenic region</td>\n",
       "      <td>Intergenic region</td>\n",
       "    </tr>\n",
       "    <tr>\n",
       "      <th>2</th>\n",
       "      <td>chr_II_telomeric_gap</td>\n",
       "      <td>9803</td>\n",
       "      <td>11640</td>\n",
       "      <td>SPBC460.02c.1|SPBC460.03.1</td>\n",
       "      <td>SPBC460.02c|SPBC460.03</td>\n",
       "      <td>-|+</td>\n",
       "      <td>1837</td>\n",
       "      <td>Intergenic region</td>\n",
       "      <td>Intergenic region</td>\n",
       "    </tr>\n",
       "    <tr>\n",
       "      <th>3</th>\n",
       "      <td>chr_II_telomeric_gap</td>\n",
       "      <td>13344</td>\n",
       "      <td>14072</td>\n",
       "      <td>SPBC460.03.1|SPBC460.04c.1</td>\n",
       "      <td>SPBC460.03|SPBC460.04c</td>\n",
       "      <td>+|-</td>\n",
       "      <td>728</td>\n",
       "      <td>Intergenic region</td>\n",
       "      <td>Intergenic region</td>\n",
       "    </tr>\n",
       "    <tr>\n",
       "      <th>4</th>\n",
       "      <td>chr_II_telomeric_gap</td>\n",
       "      <td>15248</td>\n",
       "      <td>16469</td>\n",
       "      <td>SPBC460.04c.1|SPBC460.05.1</td>\n",
       "      <td>SPBC460.04c|SPBC460.05</td>\n",
       "      <td>-|+</td>\n",
       "      <td>1221</td>\n",
       "      <td>Intergenic region</td>\n",
       "      <td>Intergenic region</td>\n",
       "    </tr>\n",
       "    <tr>\n",
       "      <th>...</th>\n",
       "      <td>...</td>\n",
       "      <td>...</td>\n",
       "      <td>...</td>\n",
       "      <td>...</td>\n",
       "      <td>...</td>\n",
       "      <td>...</td>\n",
       "      <td>...</td>\n",
       "      <td>...</td>\n",
       "      <td>...</td>\n",
       "    </tr>\n",
       "    <tr>\n",
       "      <th>5101</th>\n",
       "      <td>mitochondrial</td>\n",
       "      <td>15531</td>\n",
       "      <td>15955</td>\n",
       "      <td>SPMIT.07.1|SPMIT.08.1</td>\n",
       "      <td>SPMIT.07|SPMIT.08</td>\n",
       "      <td>+|+</td>\n",
       "      <td>424</td>\n",
       "      <td>Intergenic region</td>\n",
       "      <td>Intergenic region</td>\n",
       "    </tr>\n",
       "    <tr>\n",
       "      <th>5102</th>\n",
       "      <td>mitochondrial</td>\n",
       "      <td>16639</td>\n",
       "      <td>16915</td>\n",
       "      <td>SPMIT.08.1|SPMIT.09.1</td>\n",
       "      <td>SPMIT.08|SPMIT.09</td>\n",
       "      <td>+|+</td>\n",
       "      <td>276</td>\n",
       "      <td>Intergenic region</td>\n",
       "      <td>Intergenic region</td>\n",
       "    </tr>\n",
       "    <tr>\n",
       "      <th>5103</th>\n",
       "      <td>mitochondrial</td>\n",
       "      <td>17062</td>\n",
       "      <td>17807</td>\n",
       "      <td>SPMIT.09.1|SPMIT.10.1</td>\n",
       "      <td>SPMIT.09|SPMIT.10</td>\n",
       "      <td>+|+</td>\n",
       "      <td>745</td>\n",
       "      <td>Intergenic region</td>\n",
       "      <td>Intergenic region</td>\n",
       "    </tr>\n",
       "    <tr>\n",
       "      <th>5104</th>\n",
       "      <td>mitochondrial</td>\n",
       "      <td>18032</td>\n",
       "      <td>18562</td>\n",
       "      <td>SPMIT.10.1|SPMIT.11.1</td>\n",
       "      <td>SPMIT.10|SPMIT.11</td>\n",
       "      <td>+|+</td>\n",
       "      <td>530</td>\n",
       "      <td>Intergenic region</td>\n",
       "      <td>Intergenic region</td>\n",
       "    </tr>\n",
       "    <tr>\n",
       "      <th>5105</th>\n",
       "      <td>mitochondrial</td>\n",
       "      <td>19309</td>\n",
       "      <td>19433</td>\n",
       "      <td>SPMIT.11.1|Boundary</td>\n",
       "      <td>SPMIT.11|Boundary</td>\n",
       "      <td>+|Boundary</td>\n",
       "      <td>124</td>\n",
       "      <td>Intergenic region</td>\n",
       "      <td>Intergenic region</td>\n",
       "    </tr>\n",
       "  </tbody>\n",
       "</table>\n",
       "<p>5106 rows × 9 columns</p>\n",
       "</div>"
      ],
      "text/plain": [
       "                      #Chr  Start    End                   Transcript  \\\n",
       "0     chr_II_telomeric_gap      0   1478       Boundary|SPBC460.01c.1   \n",
       "1     chr_II_telomeric_gap   3197   8855  SPBC460.01c.1|SPBC460.02c.1   \n",
       "2     chr_II_telomeric_gap   9803  11640   SPBC460.02c.1|SPBC460.03.1   \n",
       "3     chr_II_telomeric_gap  13344  14072   SPBC460.03.1|SPBC460.04c.1   \n",
       "4     chr_II_telomeric_gap  15248  16469   SPBC460.04c.1|SPBC460.05.1   \n",
       "...                    ...    ...    ...                          ...   \n",
       "5101         mitochondrial  15531  15955        SPMIT.07.1|SPMIT.08.1   \n",
       "5102         mitochondrial  16639  16915        SPMIT.08.1|SPMIT.09.1   \n",
       "5103         mitochondrial  17062  17807        SPMIT.09.1|SPMIT.10.1   \n",
       "5104         mitochondrial  18032  18562        SPMIT.10.1|SPMIT.11.1   \n",
       "5105         mitochondrial  19309  19433          SPMIT.11.1|Boundary   \n",
       "\n",
       "                Systematic ID      Strand  Length            Feature  \\\n",
       "0        Boundary|SPBC460.01c  Boundary|-    1478  Intergenic region   \n",
       "1     SPBC460.01c|SPBC460.02c         -|-    5658  Intergenic region   \n",
       "2      SPBC460.02c|SPBC460.03         -|+    1837  Intergenic region   \n",
       "3      SPBC460.03|SPBC460.04c         +|-     728  Intergenic region   \n",
       "4      SPBC460.04c|SPBC460.05         -|+    1221  Intergenic region   \n",
       "...                       ...         ...     ...                ...   \n",
       "5101        SPMIT.07|SPMIT.08         +|+     424  Intergenic region   \n",
       "5102        SPMIT.08|SPMIT.09         +|+     276  Intergenic region   \n",
       "5103        SPMIT.09|SPMIT.10         +|+     745  Intergenic region   \n",
       "5104        SPMIT.10|SPMIT.11         +|+     530  Intergenic region   \n",
       "5105        SPMIT.11|Boundary  +|Boundary     124  Intergenic region   \n",
       "\n",
       "                   Type  \n",
       "0     Intergenic region  \n",
       "1     Intergenic region  \n",
       "2     Intergenic region  \n",
       "3     Intergenic region  \n",
       "4     Intergenic region  \n",
       "...                 ...  \n",
       "5101  Intergenic region  \n",
       "5102  Intergenic region  \n",
       "5103  Intergenic region  \n",
       "5104  Intergenic region  \n",
       "5105  Intergenic region  \n",
       "\n",
       "[5106 rows x 9 columns]"
      ]
     },
     "execution_count": 62,
     "metadata": {},
     "output_type": "execute_result"
    }
   ],
   "source": [
    "intergenic_bed"
   ]
  },
  {
   "cell_type": "code",
   "execution_count": null,
   "metadata": {},
   "outputs": [],
   "source": []
  }
 ],
 "metadata": {
  "kernelspec": {
   "display_name": "data_analysis",
   "language": "python",
   "name": "python3"
  },
  "language_info": {
   "codemirror_mode": {
    "name": "ipython",
    "version": 3
   },
   "file_extension": ".py",
   "mimetype": "text/x-python",
   "name": "python",
   "nbconvert_exporter": "python",
   "pygments_lexer": "ipython3",
   "version": "3.10.13"
  }
 },
 "nbformat": 4,
 "nbformat_minor": 2
}
