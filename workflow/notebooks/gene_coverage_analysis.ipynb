{
 "cells": [
  {
   "cell_type": "markdown",
   "id": "b6cda195",
   "metadata": {},
   "source": [
    "# 1. Import modules"
   ]
  },
  {
   "cell_type": "code",
   "execution_count": 3,
   "id": "e404b5ae",
   "metadata": {},
   "outputs": [],
   "source": [
    "# standard libraries\n",
    "from pathlib import Path\n",
    "from dataclasses import dataclass\n",
    "\n",
    "# Visualization\n",
    "import matplotlib.pyplot as plt\n",
    "\n",
    "# scientific computing\n",
    "import pandas as pd\n",
    "\n",
    "\n",
    "# plotting style\n",
    "plt.style.use(\"../../config/DIT_HAP.mplstyle\")\n",
    "COLORS = plt.rcParams[\"axes.prop_cycle\"].by_key()[\"color\"]\n",
    "AX_WIDTH, AX_HEIGHT = plt.rcParams[\"figure.figsize\"]"
   ]
  },
  {
   "cell_type": "markdown",
   "id": "e5d3f578",
   "metadata": {},
   "source": [
    "# 2. Configuration"
   ]
  },
  {
   "cell_type": "code",
   "execution_count": null,
   "id": "a8106672",
   "metadata": {},
   "outputs": [],
   "source": [
    "@dataclass\n",
    "class Config:\n",
    "    project_dir: Path = Path(\"../../results/HD_DIT_HAP_generationRAW\")\n",
    "    "
   ]
  },
  {
   "cell_type": "code",
   "execution_count": 5,
   "id": "7a3f1c8a",
   "metadata": {},
   "outputs": [
    {
     "name": "stderr",
     "output_type": "stream",
     "text": [
      "2025-07-27 18:47:48,722 - INFO - Configuration loaded successfully\n"
     ]
    },
    {
     "name": "stdout",
     "output_type": "stream",
     "text": [
      "✓ Configuration and constants defined\n",
      "✓ Color palette and plot settings configured\n"
     ]
    }
   ],
   "source": [
    "# Configuration and Constants\n",
    "# =============================================================================\n",
    "\n",
    "# File paths\n",
    "COVERED_GENES_FILE = Path(\"../../results/HD_DIT_HAP/18_gene_level_curve_fitting/Gene_level_statistics_fitted.tsv\")\n",
    "GENOME_ANNOTATION_FILE = Path(\"../../resources/pombase_data/2025-06-01/Gene_metadata/gene_IDs_names_products.tsv\")\n",
    "FYPO_VIABILITY_FILE = Path(\"../../resources/pombase_data/2025-06-01/Gene_metadata/FYPOviability.tsv\")\n",
    "DELETION_LIBRARY_ESSENTIALITY_FILE = Path(\"../../resources/Hayles_2013_OB_merged_categories_sysIDupdated.xlsx\")\n",
    "INSERTION_FILE_BEFORE_IMPUTATION = Path(\"../../results/HD_DIT_HAP/13_filtered/raw_reads.filtered.tsv\")\n",
    "INSERTION_FILE_AFTER_IMPUTATION = Path(\"../../results/HD_DIT_HAP/14_imputed_missing_values_using_FR/imputed_raw_reads.tsv\")\n",
    "ANNOTATION_FILE = Path(\"../../results/HD_DIT_HAP/12_concatenated/annotations.tsv\")\n",
    "OUTPUT_DIR = Path(\"../../results/HD_DIT_HAP/22_gene_coverage_analysis\")\n",
    "OUTPUT_DIR.mkdir(parents=True, exist_ok=True)\n",
    "\n",
    "# Gene product categories to exclude from \"functional\" gene analysis\n",
    "EXCLUDED_GENE_PRODUCTS = {\n",
    "    \"dubious\",\n",
    "    \"retrotransposable element/transposon Tf2-type\"\n",
    "}\n",
    "\n",
    "# Visualization settings using custom color palette\n",
    "COLORS = {\n",
    "    'covered': '#962955',      # Deep pink-purple\n",
    "    'not_covered': '#7fb775',  # Medium green\n",
    "    'functional': '#6479cc',   # Medium blue\n",
    "    'excluded': '#ad933c',     # Golden brown\n",
    "    'background': '#f8f9fa'    # Light gray\n",
    "}\n",
    "\n",
    "# Plot settings\n",
    "plt.rcParams.update({\n",
    "    'figure.figsize': (8, 6),\n",
    "    'font.size': 12,\n",
    "    'font.family': 'Arial',\n",
    "    'axes.linewidth': 1.2,\n",
    "    'axes.spines.top': False,\n",
    "    'axes.spines.right': False,\n",
    "    'grid.alpha': 0.3,\n",
    "    'legend.frameon': False\n",
    "})\n",
    "\n",
    "logger.info(\"Configuration loaded successfully\")\n",
    "print(\"✓ Configuration and constants defined\")\n",
    "print(\"✓ Color palette and plot settings configured\")\n"
   ]
  },
  {
   "cell_type": "markdown",
   "id": "09806fcb",
   "metadata": {
    "vscode": {
     "languageId": "raw"
    }
   },
   "source": [
    "## 1. Data Loading and Validation\n",
    "\n",
    "Loading the two main datasets:\n",
    "1. **Covered genes**: Genes with transposon insertions that passed curve fitting\n",
    "2. **Genome annotation**: Complete gene metadata including gene types and products\n"
   ]
  },
  {
   "cell_type": "code",
   "execution_count": 3,
   "id": "107bfb35",
   "metadata": {},
   "outputs": [
    {
     "name": "stderr",
     "output_type": "stream",
     "text": [
      "2025-07-27 18:47:17,578 - INFO - Loading input datasets...\n",
      "2025-07-27 18:47:17,670 - INFO - Loaded 4519 covered genes\n",
      "2025-07-27 18:47:17,680 - INFO - Loaded 12685 FYPO viability data\n",
      "2025-07-27 18:47:19,130 - INFO - Loaded 4843 Deletion library essentiality data\n",
      "2025-07-27 18:47:19,160 - INFO - Loaded 12685 total genes from genome annotation\n",
      "2025-07-27 18:47:19,181 - INFO - Data validation completed successfully\n"
     ]
    },
    {
     "name": "stdout",
     "output_type": "stream",
     "text": [
      "✓ Data loaded successfully\n",
      "✓ Covered genes: 4,519\n",
      "✓ Total genes in genome: 12,685\n"
     ]
    }
   ],
   "source": [
    "def load_and_validate_data() -> Tuple[pd.DataFrame, pd.DataFrame]:\n",
    "    \"\"\"\n",
    "    Load and validate the input datasets.\n",
    "    \n",
    "    Returns:\n",
    "        Tuple[pd.DataFrame, pd.DataFrame]: covered_genes_df, genome_annotation_df\n",
    "    \n",
    "    Raises:\n",
    "        FileNotFoundError: If input files don't exist\n",
    "        ValueError: If data validation fails\n",
    "    \"\"\"\n",
    "    logger.info(\"Loading input datasets...\")\n",
    "    \n",
    "    # Load covered genes data\n",
    "    if not COVERED_GENES_FILE.exists():\n",
    "        raise FileNotFoundError(f\"Covered genes file not found: {COVERED_GENES_FILE}\")\n",
    "    \n",
    "    covered_genes_df = pd.read_csv(COVERED_GENES_FILE, sep='\\t')\n",
    "    logger.info(f\"Loaded {len(covered_genes_df)} covered genes\")\n",
    "\n",
    "    # Load FYPO viability data\n",
    "    if not FYPO_VIABILITY_FILE.exists():\n",
    "        raise FileNotFoundError(f\"FYPO viability file not found: {FYPO_VIABILITY_FILE}\")\n",
    "\n",
    "    fypo_viability_df = pd.read_csv(FYPO_VIABILITY_FILE, sep='\\t', header=None, names=[\"gene_systematic_id\", \"FYPOviability\"])\n",
    "    logger.info(f\"Loaded {len(fypo_viability_df)} FYPO viability data\")\n",
    "\n",
    "    # Load Deletion library essentiality data\n",
    "    if not DELETION_LIBRARY_ESSENTIALITY_FILE.exists():\n",
    "        raise FileNotFoundError(f\"Deletion library essentiality file not found: {DELETION_LIBRARY_ESSENTIALITY_FILE}\")\n",
    "\n",
    "    deletion_essentiality_df = pd.read_excel(DELETION_LIBRARY_ESSENTIALITY_FILE)\n",
    "    logger.info(f\"Loaded {len(deletion_essentiality_df)} Deletion library essentiality data\")\n",
    "\n",
    "    # Load genome annotation data\n",
    "    if not GENOME_ANNOTATION_FILE.exists():\n",
    "        raise FileNotFoundError(f\"Genome annotation file not found: {GENOME_ANNOTATION_FILE}\")\n",
    "    \n",
    "    genome_annotation_df = pd.read_csv(GENOME_ANNOTATION_FILE, sep='\\t')\n",
    "    logger.info(f\"Loaded {len(genome_annotation_df)} total genes from genome annotation\")\n",
    "    \n",
    "    # add FYPOviability and DeletionLibrary_essentiality to genome_annotation_df\n",
    "    genome_annotation_df = pd.merge(genome_annotation_df, fypo_viability_df, on=\"gene_systematic_id\", how=\"left\")\n",
    "    genome_annotation_df = pd.merge(genome_annotation_df, deletion_essentiality_df[[\"Updated_Systematic_ID\", \"Gene dispensability. This study\"]], left_on=\"gene_systematic_id\", right_on=\"Updated_Systematic_ID\", how=\"left\").drop(columns=[\"Updated_Systematic_ID\"])\n",
    "    genome_annotation_df.rename(columns={\"Gene dispensability. This study\": \"DeletionLibrary_essentiality\"}, inplace=True)\n",
    "    genome_annotation_df[\"DeletionLibrary_essentiality\"] = genome_annotation_df[\"DeletionLibrary_essentiality\"].fillna(\"Not_determined\")\n",
    "    \n",
    "    # Validate required columns\n",
    "    required_covered_cols = ['Systematic ID']\n",
    "    required_genome_cols = ['gene_systematic_id', 'gene_type', 'gene_product']\n",
    "    \n",
    "    missing_cols = [col for col in required_covered_cols if col not in covered_genes_df.columns]\n",
    "    if missing_cols:\n",
    "        raise ValueError(f\"Missing required columns in covered genes: {missing_cols}\")\n",
    "    \n",
    "    missing_cols = [col for col in required_genome_cols if col not in genome_annotation_df.columns]\n",
    "    if missing_cols:\n",
    "        raise ValueError(f\"Missing required columns in genome annotation: {missing_cols}\")\n",
    "    \n",
    "    logger.info(\"Data validation completed successfully\")\n",
    "    return covered_genes_df, genome_annotation_df, fypo_viability_df, deletion_essentiality_df\n",
    "\n",
    "# Load the data\n",
    "covered_genes_df, genome_annotation_df, fypo_viability_df, deletion_essentiality_df = load_and_validate_data()\n",
    "\n",
    "print(\"✓ Data loaded successfully\")\n",
    "print(f\"✓ Covered genes: {len(covered_genes_df):,}\")\n",
    "print(f\"✓ Total genes in genome: {len(genome_annotation_df):,}\")\n"
   ]
  },
  {
   "cell_type": "markdown",
   "id": "49ac6890",
   "metadata": {
    "vscode": {
     "languageId": "raw"
    }
   },
   "source": [
    "## 2. Data Processing and Gene Categorization\n",
    "\n",
    "Processing the data to:\n",
    "1. **Filter protein-coding genes** from the genome annotation\n",
    "2. **Categorize genes** by their product types (functional vs. excluded categories)\n",
    "3. **Calculate coverage statistics** for each category\n"
   ]
  },
  {
   "cell_type": "code",
   "execution_count": 4,
   "id": "9e2b6101",
   "metadata": {},
   "outputs": [
    {
     "name": "stderr",
     "output_type": "stream",
     "text": [
      "2025-07-27 18:47:24,916 - INFO - Processing gene data...\n"
     ]
    },
    {
     "name": "stderr",
     "output_type": "stream",
     "text": [
      "2025-07-27 18:47:24,921 - INFO - Filtered to 5134 protein-coding genes\n",
      "2025-07-27 18:47:24,983 - INFO - Gene categorization completed\n",
      "2025-07-27 18:47:24,984 - INFO - Calculating coverage statistics...\n",
      "2025-07-27 18:47:24,985 - INFO - all_protein_coding: 4519/5134 (88.0%) covered\n",
      "2025-07-27 18:47:24,985 - INFO - functional_genes: 4467/5059 (88.3%) covered\n",
      "2025-07-27 18:47:24,986 - INFO - excluded_genes: 52/75 (69.3%) covered\n",
      "2025-07-27 18:47:24,986 - INFO - FYPO_inviable_genes: 1082/1203 (89.9%) covered\n",
      "2025-07-27 18:47:24,987 - INFO - FYPO_viable_genes: 3159/3581 (88.2%) covered\n",
      "2025-07-27 18:47:24,987 - INFO - FYPO_condition_dependent_genes: 163/179 (91.1%) covered\n",
      "2025-07-27 18:47:24,988 - INFO - FYPO_unknown_genes: 115/171 (67.3%) covered\n",
      "2025-07-27 18:47:24,988 - INFO - DeletionLibrary_essentiality_E_genes: 1144/1267 (90.3%) covered\n",
      "2025-07-27 18:47:24,988 - INFO - DeletionLibrary_essentiality_V_genes: 3173/3575 (88.8%) covered\n",
      "2025-07-27 18:47:24,989 - INFO - DeletionLibrary_essentiality_N_genes: 202/292 (69.2%) covered\n",
      "2025-07-27 18:47:24,989 - INFO - Functional_FYPO_inviable_genes: 1082/1203 (89.9%) covered\n",
      "2025-07-27 18:47:24,990 - INFO - Functional_FYPO_viable_genes: 3145/3563 (88.3%) covered\n",
      "2025-07-27 18:47:24,990 - INFO - Functional_FYPO_condition_dependent_genes: 163/179 (91.1%) covered\n",
      "2025-07-27 18:47:24,990 - INFO - Functional_FYPO_unknown_genes: 77/114 (67.5%) covered\n",
      "2025-07-27 18:47:24,991 - INFO - Functional_DeletionLibrary_essentiality_E_genes: 1144/1267 (90.3%) covered\n",
      "2025-07-27 18:47:24,991 - INFO - Functional_DeletionLibrary_essentiality_V_genes: 3166/3567 (88.8%) covered\n",
      "2025-07-27 18:47:24,992 - INFO - Functional_DeletionLibrary_essentiality_N_genes: 157/225 (69.8%) covered\n"
     ]
    },
    {
     "data": {
      "text/plain": [
       "{'all_protein_coding': {'total': 5134,\n",
       "  'covered': np.int64(4519),\n",
       "  'not_covered': np.int64(615),\n",
       "  'coverage_percentage': np.float64(88.02103622906115)},\n",
       " 'functional_genes': {'total': 5059,\n",
       "  'covered': np.int64(4467),\n",
       "  'not_covered': np.int64(592),\n",
       "  'coverage_percentage': np.float64(88.2980826250247)},\n",
       " 'excluded_genes': {'total': 75,\n",
       "  'covered': np.int64(52),\n",
       "  'not_covered': np.int64(23),\n",
       "  'coverage_percentage': np.float64(69.33333333333334)},\n",
       " 'FYPO_inviable_genes': {'total': 1203,\n",
       "  'covered': np.int64(1082),\n",
       "  'not_covered': np.int64(121),\n",
       "  'coverage_percentage': np.float64(89.94181213632585)},\n",
       " 'FYPO_viable_genes': {'total': 3581,\n",
       "  'covered': np.int64(3159),\n",
       "  'not_covered': np.int64(422),\n",
       "  'coverage_percentage': np.float64(88.21558223959788)},\n",
       " 'FYPO_condition_dependent_genes': {'total': 179,\n",
       "  'covered': np.int64(163),\n",
       "  'not_covered': np.int64(16),\n",
       "  'coverage_percentage': np.float64(91.06145251396647)},\n",
       " 'FYPO_unknown_genes': {'total': 171,\n",
       "  'covered': np.int64(115),\n",
       "  'not_covered': np.int64(56),\n",
       "  'coverage_percentage': np.float64(67.2514619883041)},\n",
       " 'DeletionLibrary_essentiality_E_genes': {'total': 1267,\n",
       "  'covered': np.int64(1144),\n",
       "  'not_covered': np.int64(123),\n",
       "  'coverage_percentage': np.float64(90.29202841357538)},\n",
       " 'DeletionLibrary_essentiality_V_genes': {'total': 3575,\n",
       "  'covered': np.int64(3173),\n",
       "  'not_covered': np.int64(402),\n",
       "  'coverage_percentage': np.float64(88.75524475524476)},\n",
       " 'DeletionLibrary_essentiality_N_genes': {'total': 292,\n",
       "  'covered': np.int64(202),\n",
       "  'not_covered': np.int64(90),\n",
       "  'coverage_percentage': np.float64(69.17808219178082)},\n",
       " 'Functional_FYPO_inviable_genes': {'total': 1203,\n",
       "  'covered': np.int64(1082),\n",
       "  'not_covered': np.int64(121),\n",
       "  'coverage_percentage': np.float64(89.94181213632585)},\n",
       " 'Functional_FYPO_viable_genes': {'total': 3563,\n",
       "  'covered': np.int64(3145),\n",
       "  'not_covered': np.int64(418),\n",
       "  'coverage_percentage': np.float64(88.2683132191973)},\n",
       " 'Functional_FYPO_condition_dependent_genes': {'total': 179,\n",
       "  'covered': np.int64(163),\n",
       "  'not_covered': np.int64(16),\n",
       "  'coverage_percentage': np.float64(91.06145251396647)},\n",
       " 'Functional_FYPO_unknown_genes': {'total': 114,\n",
       "  'covered': np.int64(77),\n",
       "  'not_covered': np.int64(37),\n",
       "  'coverage_percentage': np.float64(67.54385964912281)},\n",
       " 'Functional_DeletionLibrary_essentiality_E_genes': {'total': 1267,\n",
       "  'covered': np.int64(1144),\n",
       "  'not_covered': np.int64(123),\n",
       "  'coverage_percentage': np.float64(90.29202841357538)},\n",
       " 'Functional_DeletionLibrary_essentiality_V_genes': {'total': 3567,\n",
       "  'covered': np.int64(3166),\n",
       "  'not_covered': np.int64(401),\n",
       "  'coverage_percentage': np.float64(88.75805999439305)},\n",
       " 'Functional_DeletionLibrary_essentiality_N_genes': {'total': 225,\n",
       "  'covered': np.int64(157),\n",
       "  'not_covered': np.int64(68),\n",
       "  'coverage_percentage': np.float64(69.77777777777779)}}"
      ]
     },
     "metadata": {},
     "output_type": "display_data"
    },
    {
     "name": "stdout",
     "output_type": "stream",
     "text": [
      "✓ Data processing completed\n",
      "✓ All protein-coding genes: 5,134\n",
      "✓ Functional genes: 5,059\n",
      "✓ Excluded genes: 75\n"
     ]
    }
   ],
   "source": [
    "def process_gene_data(covered_genes_df: pd.DataFrame, \n",
    "                      genome_annotation_df: pd.DataFrame) -> Dict[str, pd.DataFrame]:\n",
    "    \"\"\"\n",
    "    Process gene data to create categorized datasets.\n",
    "    \n",
    "    Args:\n",
    "        covered_genes_df: DataFrame with covered genes\n",
    "        genome_annotation_df: DataFrame with genome annotation\n",
    "        \n",
    "    Returns:\n",
    "        Dict[str, pd.DataFrame]: Dictionary containing processed DataFrames\n",
    "    \"\"\"\n",
    "    logger.info(\"Processing gene data...\")\n",
    "    \n",
    "    # Filter for protein-coding genes only\n",
    "    protein_coding_genes = genome_annotation_df[\n",
    "        genome_annotation_df['gene_type'] == 'protein coding gene'\n",
    "    ].copy()\n",
    "    \n",
    "    logger.info(f\"Filtered to {len(protein_coding_genes)} protein-coding genes\")\n",
    "    \n",
    "    # Get set of covered gene IDs\n",
    "    covered_gene_ids = set(covered_genes_df['Systematic ID'].str.strip())\n",
    "    \n",
    "    # Add coverage information to protein-coding genes\n",
    "    protein_coding_genes['is_covered'] = protein_coding_genes['gene_systematic_id'].isin(covered_gene_ids)\n",
    "    \n",
    "    # Categorize genes by product type\n",
    "    protein_coding_genes['is_dubious'] = protein_coding_genes['gene_product'].str.contains('dubious')\n",
    "    protein_coding_genes['is_retrotransposable_element'] = protein_coding_genes['gene_product'].str.contains('retrotransposable element/transposon Tf2-type')\n",
    "    protein_coding_genes['is_sp_specific'] = protein_coding_genes['gene_product'].str.contains('pombe specific')\n",
    "    protein_coding_genes['is_excluded'] = protein_coding_genes['is_dubious'] | protein_coding_genes['is_retrotransposable_element']\n",
    "    protein_coding_genes['is_functional'] = ~protein_coding_genes['is_excluded']\n",
    "    \n",
    "    # Create subsets\n",
    "    all_protein_coding = protein_coding_genes.copy()\n",
    "    functional_genes = protein_coding_genes[protein_coding_genes['is_functional']].copy()\n",
    "    excluded_genes = protein_coding_genes[protein_coding_genes['is_excluded']].copy()\n",
    "    FYPO_inviable_genes = protein_coding_genes.query(\"FYPOviability == 'inviable'\").copy()\n",
    "    FYPO_viable_genes = protein_coding_genes.query(\"FYPOviability == 'viable'\").copy()\n",
    "    FYPO_condition_dependent_genes = protein_coding_genes.query(\"FYPOviability == 'condition-dependent'\").copy()\n",
    "    FYPO_unknown_genes = protein_coding_genes.query(\"FYPOviability == 'unknown'\").copy()\n",
    "    DeletionLibrary_essentiality_E_genes = protein_coding_genes.query(\"DeletionLibrary_essentiality == 'E'\").copy()\n",
    "    DeletionLibrary_essentiality_V_genes = protein_coding_genes.query(\"DeletionLibrary_essentiality == 'V'\").copy()\n",
    "    DeletionLibrary_essentiality_N_genes = protein_coding_genes.query(\"DeletionLibrary_essentiality == 'Not_determined'\").copy()\n",
    "    Functional_FYPO_inviable_genes = protein_coding_genes.query(\"FYPOviability == 'inviable' & is_functional\").copy()\n",
    "    Functional_FYPO_viable_genes = protein_coding_genes.query(\"FYPOviability == 'viable' & is_functional\").copy()\n",
    "    Functional_FYPO_condition_dependent_genes = protein_coding_genes.query(\"FYPOviability == 'condition-dependent' & is_functional\").copy()\n",
    "    Functional_FYPO_unknown_genes = protein_coding_genes.query(\"FYPOviability == 'unknown' & is_functional\").copy()\n",
    "    Functional_DeletionLibrary_essentiality_E_genes = protein_coding_genes.query(\"DeletionLibrary_essentiality == 'E' & is_functional\").copy()\n",
    "    Functional_DeletionLibrary_essentiality_V_genes = protein_coding_genes.query(\"DeletionLibrary_essentiality == 'V' & is_functional\").copy()\n",
    "    Functional_DeletionLibrary_essentiality_N_genes = protein_coding_genes.query(\"DeletionLibrary_essentiality == 'Not_determined' & is_functional\").copy()\n",
    "    \n",
    "    logger.info(\"Gene categorization completed\")\n",
    "    \n",
    "    return {\n",
    "        'all_protein_coding': all_protein_coding,\n",
    "        'functional_genes': functional_genes,\n",
    "        'excluded_genes': excluded_genes,\n",
    "        'FYPO_inviable_genes': FYPO_inviable_genes,\n",
    "        'FYPO_viable_genes': FYPO_viable_genes,\n",
    "        'FYPO_condition_dependent_genes': FYPO_condition_dependent_genes,\n",
    "        'FYPO_unknown_genes': FYPO_unknown_genes,\n",
    "        'DeletionLibrary_essentiality_E_genes': DeletionLibrary_essentiality_E_genes,\n",
    "        'DeletionLibrary_essentiality_V_genes': DeletionLibrary_essentiality_V_genes,\n",
    "        'DeletionLibrary_essentiality_N_genes': DeletionLibrary_essentiality_N_genes,\n",
    "        'Functional_FYPO_inviable_genes': Functional_FYPO_inviable_genes,\n",
    "        'Functional_FYPO_viable_genes': Functional_FYPO_viable_genes,\n",
    "        'Functional_FYPO_condition_dependent_genes': Functional_FYPO_condition_dependent_genes,\n",
    "        'Functional_FYPO_unknown_genes': Functional_FYPO_unknown_genes,\n",
    "        'Functional_DeletionLibrary_essentiality_E_genes': Functional_DeletionLibrary_essentiality_E_genes,\n",
    "        'Functional_DeletionLibrary_essentiality_V_genes': Functional_DeletionLibrary_essentiality_V_genes,\n",
    "        'Functional_DeletionLibrary_essentiality_N_genes': Functional_DeletionLibrary_essentiality_N_genes\n",
    "    }\n",
    "\n",
    "def calculate_coverage_statistics(gene_datasets: Dict[str, pd.DataFrame]) -> Dict[str, Dict[str, int]]:\n",
    "    \"\"\"\n",
    "    Calculate coverage statistics for each gene category.\n",
    "    \n",
    "    Args:\n",
    "        gene_datasets: Dictionary of gene DataFrames\n",
    "        \n",
    "    Returns:\n",
    "        Dict[str, Dict[str, int]]: Nested dictionary with coverage statistics\n",
    "    \"\"\"\n",
    "    logger.info(\"Calculating coverage statistics...\")\n",
    "    \n",
    "    stats = {}\n",
    "    \n",
    "    for category, df in gene_datasets.items():\n",
    "        covered_count = df['is_covered'].sum()\n",
    "        total_count = len(df)\n",
    "        not_covered_count = total_count - covered_count\n",
    "        coverage_percentage = (covered_count / total_count) * 100 if total_count > 0 else 0\n",
    "        \n",
    "        stats[category] = {\n",
    "            'total': total_count,\n",
    "            'covered': covered_count,\n",
    "            'not_covered': not_covered_count,\n",
    "            'coverage_percentage': coverage_percentage\n",
    "        }\n",
    "        \n",
    "        logger.info(f\"{category}: {covered_count}/{total_count} ({coverage_percentage:.1f}%) covered\")\n",
    "    \n",
    "    return stats\n",
    "\n",
    "# Process the data\n",
    "gene_datasets = process_gene_data(covered_genes_df, genome_annotation_df)\n",
    "coverage_stats = calculate_coverage_statistics(gene_datasets)\n",
    "\n",
    "display(coverage_stats)\n",
    "\n",
    "print(\"✓ Data processing completed\")\n",
    "print(f\"✓ All protein-coding genes: {len(gene_datasets['all_protein_coding']):,}\")\n",
    "print(f\"✓ Functional genes: {len(gene_datasets['functional_genes']):,}\")\n",
    "print(f\"✓ Excluded genes: {len(gene_datasets['excluded_genes']):,}\")\n"
   ]
  },
  {
   "cell_type": "markdown",
   "id": "c655c1f1",
   "metadata": {
    "vscode": {
     "languageId": "raw"
    }
   },
   "source": [
    "## 3. Visualization: Gene Coverage Analysis\n",
    "\n",
    "Creating comprehensive visualizations to show:\n",
    "1. **Overall protein-coding gene coverage** (all genes)\n",
    "2. **Functional gene coverage** (excluding dubious and species-specific genes)\n",
    "3. **Comparison across categories** with detailed statistics\n"
   ]
  },
  {
   "cell_type": "code",
   "execution_count": 16,
   "id": "33c76b22",
   "metadata": {},
   "outputs": [],
   "source": [
    "def create_coverage_donut_chart(stats: Dict[str, int], title: str, colors: List[str], output_file: None) -> None:\n",
    "    \"\"\"\n",
    "    Create a donut chart for gene coverage visualization.\n",
    "    \n",
    "    Args:\n",
    "        stats: Dictionary with coverage statistics\n",
    "        title: Title for the chart\n",
    "        ax: Matplotlib axis object\n",
    "        colors: List of colors for the chart\n",
    "    \"\"\"\n",
    "    # Data for the donut chart\n",
    "    sizes = [stats['covered'], stats['not_covered']]\n",
    "    labels = ['Covered', 'Not Covered']\n",
    "    fig, ax = plt.subplots(figsize=(6, 6))\n",
    "    \n",
    "    # Create the donut chart\n",
    "    wedges, texts, autotexts = ax.pie(\n",
    "        sizes, \n",
    "        # labels=labels, \n",
    "        colors=colors,\n",
    "        autopct=lambda pct: f'{pct:.1f}%\\n({int(pct/100*sum(sizes)):,})',\n",
    "        startangle=90,\n",
    "        pctdistance=0.75,\n",
    "        wedgeprops=dict(width=0.5, edgecolor='white'),\n",
    "        textprops={'fontsize': 24, 'weight': 'bold'}\n",
    "    )\n",
    "    \n",
    "    # Add title\n",
    "    # ax.set_title(title, fontsize=14, fontweight='bold', pad=20)\n",
    "    \n",
    "    # Add total count in center\n",
    "    ax.text(0, 0, f'Total\\n{stats[\"total\"]:,}\\ngenes', \n",
    "            ha='center', va='center', fontsize=30, fontweight='bold')\n",
    "    \n",
    "    # Equal aspect ratio ensures that pie is drawn as a circle\n",
    "    ax.axis('equal')\n",
    "\n",
    "    plt.tight_layout()\n",
    "    if output_file is not None:\n",
    "        plt.savefig(output_file, dpi=300, bbox_inches='tight', transparent=True)\n",
    "    else:\n",
    "        plt.show()\n",
    "    plt.close()\n",
    "\n",
    "category_colors = {\n",
    "    'all_protein_coding': '#ad893e',\n",
    "    'DeletionLibrary_essentiality_E_genes': '#d95d3c',\n",
    "    'DeletionLibrary_essentiality_V_genes': '#83a92f',\n",
    "    'DeletionLibrary_essentiality_N_genes': '#539bdd'\n",
    "}\n",
    "\n",
    "# Create the comprehensive visualization\n",
    "for category, stats in coverage_stats.items():\n",
    "    output_file = OUTPUT_DIR / f\"{category}.pdf\"\n",
    "    if category in category_colors:\n",
    "        create_coverage_donut_chart(stats, category, [category_colors[category],COLORS[\"background\"]], output_file)\n",
    "    else:\n",
    "        create_coverage_donut_chart(stats, category, [COLORS[\"functional\"], COLORS[\"background\"]], output_file)\n"
   ]
  },
  {
   "cell_type": "markdown",
   "id": "f8b366f0",
   "metadata": {
    "vscode": {
     "languageId": "raw"
    }
   },
   "source": [
    "## 4. Statistical Analysis and Insights\n",
    "\n",
    "Detailed statistical analysis of gene coverage patterns including:\n",
    "1. **Coverage statistics by gene category**\n",
    "2. **Gene product type analysis** \n",
    "3. **Key insights and findings**\n"
   ]
  },
  {
   "cell_type": "code",
   "execution_count": 46,
   "id": "1616513b",
   "metadata": {},
   "outputs": [
    {
     "name": "stderr",
     "output_type": "stream",
     "text": [
      "2025-07-07 15:04:41,499 - INFO - Generating coverage summary table...\n"
     ]
    },
    {
     "name": "stdout",
     "output_type": "stream",
     "text": [
      "================================================================================\n",
      "GENE COVERAGE SUMMARY STATISTICS\n",
      "================================================================================\n",
      "+-------------------------------------------------+---------------+-----------------+---------------+--------------+\n",
      "| Gene Category                                   | Total Genes   | Covered Genes   |   Not Covered | Coverage %   |\n",
      "+=================================================+===============+=================+===============+==============+\n",
      "| All Protein Coding                              | 5,134         | 4,519           |           615 | 88.0%        |\n",
      "+-------------------------------------------------+---------------+-----------------+---------------+--------------+\n",
      "| Functional Genes                                | 5,059         | 4,467           |           592 | 88.3%        |\n",
      "+-------------------------------------------------+---------------+-----------------+---------------+--------------+\n",
      "| Excluded Genes                                  | 75            | 52              |            23 | 69.3%        |\n",
      "+-------------------------------------------------+---------------+-----------------+---------------+--------------+\n",
      "| Fypo Inviable Genes                             | 1,203         | 1,082           |           121 | 89.9%        |\n",
      "+-------------------------------------------------+---------------+-----------------+---------------+--------------+\n",
      "| Fypo Viable Genes                               | 3,581         | 3,159           |           422 | 88.2%        |\n",
      "+-------------------------------------------------+---------------+-----------------+---------------+--------------+\n",
      "| Fypo Condition Dependent Genes                  | 179           | 163             |            16 | 91.1%        |\n",
      "+-------------------------------------------------+---------------+-----------------+---------------+--------------+\n",
      "| Fypo Unknown Genes                              | 171           | 115             |            56 | 67.3%        |\n",
      "+-------------------------------------------------+---------------+-----------------+---------------+--------------+\n",
      "| Deletionlibrary Essentiality E Genes            | 1,267         | 1,144           |           123 | 90.3%        |\n",
      "+-------------------------------------------------+---------------+-----------------+---------------+--------------+\n",
      "| Deletionlibrary Essentiality V Genes            | 3,575         | 3,173           |           402 | 88.8%        |\n",
      "+-------------------------------------------------+---------------+-----------------+---------------+--------------+\n",
      "| Deletionlibrary Essentiality N Genes            | 292           | 202             |            90 | 69.2%        |\n",
      "+-------------------------------------------------+---------------+-----------------+---------------+--------------+\n",
      "| Functional Fypo Inviable Genes                  | 1,203         | 1,082           |           121 | 89.9%        |\n",
      "+-------------------------------------------------+---------------+-----------------+---------------+--------------+\n",
      "| Functional Fypo Viable Genes                    | 3,563         | 3,145           |           418 | 88.3%        |\n",
      "+-------------------------------------------------+---------------+-----------------+---------------+--------------+\n",
      "| Functional Fypo Condition Dependent Genes       | 179           | 163             |            16 | 91.1%        |\n",
      "+-------------------------------------------------+---------------+-----------------+---------------+--------------+\n",
      "| Functional Fypo Unknown Genes                   | 114           | 77              |            37 | 67.5%        |\n",
      "+-------------------------------------------------+---------------+-----------------+---------------+--------------+\n",
      "| Functional Deletionlibrary Essentiality E Genes | 1,267         | 1,144           |           123 | 90.3%        |\n",
      "+-------------------------------------------------+---------------+-----------------+---------------+--------------+\n",
      "| Functional Deletionlibrary Essentiality V Genes | 3,567         | 3,166           |           401 | 88.8%        |\n",
      "+-------------------------------------------------+---------------+-----------------+---------------+--------------+\n",
      "| Functional Deletionlibrary Essentiality N Genes | 225           | 157             |            68 | 69.8%        |\n",
      "+-------------------------------------------------+---------------+-----------------+---------------+--------------+\n",
      "\n"
     ]
    }
   ],
   "source": [
    "def display_coverage_summary_table(coverage_stats: Dict[str, Dict[str, int]]) -> None:\n",
    "    \"\"\"\n",
    "    Display a formatted table of coverage statistics.\n",
    "    \n",
    "    Args:\n",
    "        coverage_stats: Dictionary with coverage statistics for each category\n",
    "    \"\"\"\n",
    "    logger.info(\"Generating coverage summary table...\")\n",
    "    \n",
    "    # Prepare data for tabulation\n",
    "    headers = ['Gene Category', 'Total Genes', 'Covered Genes', 'Not Covered', 'Coverage %']\n",
    "    table_data = []\n",
    "    \n",
    "    for category, stats in coverage_stats.items():\n",
    "        category_name = category.replace('_', ' ').title()\n",
    "        table_data.append([\n",
    "            category_name,\n",
    "            f\"{stats['total']:,}\",\n",
    "            f\"{stats['covered']:,}\",\n",
    "            f\"{stats['not_covered']:,}\",\n",
    "            f\"{stats['coverage_percentage']:.1f}%\"\n",
    "        ])\n",
    "    \n",
    "    print(\"=\" * 80)\n",
    "    print(\"GENE COVERAGE SUMMARY STATISTICS\")\n",
    "    print(\"=\" * 80)\n",
    "    print(tabulate(table_data, headers=headers, tablefmt='grid'))\n",
    "    print()\n",
    "\n",
    "def display_excluded_categories_analysis(product_analysis: pd.DataFrame) -> None:\n",
    "    \"\"\"\n",
    "    Display analysis of excluded gene categories.\n",
    "    \n",
    "    Args:\n",
    "        product_analysis: DataFrame with gene product analysis\n",
    "    \"\"\"\n",
    "    logger.info(\"Analyzing excluded gene categories...\")\n",
    "    \n",
    "    # Filter for excluded categories\n",
    "    excluded_products = product_analysis[product_analysis['Category'] == 'Excluded']\n",
    "    \n",
    "    print(\"=\" * 80)\n",
    "    print(\"EXCLUDED GENE CATEGORIES ANALYSIS\")\n",
    "    print(\"=\" * 80)\n",
    "    \n",
    "    for product_type in EXCLUDED_GENE_PRODUCTS:\n",
    "        if product_type in excluded_products.index:\n",
    "            stats = excluded_products.loc[product_type]\n",
    "            print(f\"\\n{product_type.upper()}:\")\n",
    "            print(f\"  • Total genes: {stats['Total']:,}\")\n",
    "            print(f\"  • Covered genes: {stats['Covered']:,}\")\n",
    "            print(f\"  • Coverage: {stats['Coverage %']:.1f}%\")\n",
    "    \n",
    "    print(\"\\n\" + \"-\" * 80)\n",
    "    print(f\"Total excluded genes: {excluded_products['Total'].sum():,}\")\n",
    "    print(f\"Total covered excluded genes: {excluded_products['Covered'].sum():,}\")\n",
    "    print(f\"Overall excluded gene coverage: {(excluded_products['Covered'].sum() / excluded_products['Total'].sum() * 100):.1f}%\")\n",
    "    print()\n",
    "\n",
    "def display_top_functional_categories(product_analysis: pd.DataFrame, top_n: int = 10) -> None:\n",
    "    \"\"\"\n",
    "    Display top functional gene categories by total count.\n",
    "    \n",
    "    Args:\n",
    "        product_analysis: DataFrame with gene product analysis\n",
    "        top_n: Number of top categories to display\n",
    "    \"\"\"\n",
    "    logger.info(f\"Displaying top {top_n} functional gene categories...\")\n",
    "    \n",
    "    # Filter for functional categories and get top N\n",
    "    functional_products = product_analysis[product_analysis['Category'] == 'Functional']\n",
    "    top_functional = functional_products.head(top_n)\n",
    "    \n",
    "    print(\"=\" * 80)\n",
    "    print(f\"TOP {top_n} FUNCTIONAL GENE CATEGORIES (by total count)\")\n",
    "    print(\"=\" * 80)\n",
    "    \n",
    "    headers = ['Gene Product', 'Total', 'Covered', 'Not Covered', 'Coverage %']\n",
    "    table_data = []\n",
    "    \n",
    "    for idx, (product, stats) in enumerate(top_functional.iterrows(), 1):\n",
    "        table_data.append([\n",
    "            f\"{idx}. {product[:50]}{'...' if len(product) > 50 else ''}\",\n",
    "            f\"{stats['Total']:,}\",\n",
    "            f\"{stats['Covered']:,}\",\n",
    "            f\"{stats['Not Covered']:,}\",\n",
    "            f\"{stats['Coverage %']:.1f}%\"\n",
    "        ])\n",
    "    \n",
    "    print(tabulate(table_data, headers=headers, tablefmt='grid'))\n",
    "    print()\n",
    "\n",
    "def generate_key_insights(coverage_stats: Dict[str, Dict[str, int]], \n",
    "                         product_analysis: pd.DataFrame) -> None:\n",
    "    \"\"\"\n",
    "    Generate key insights from the coverage analysis.\n",
    "    \n",
    "    Args:\n",
    "        coverage_stats: Coverage statistics for each category\n",
    "        product_analysis: Gene product analysis results\n",
    "    \"\"\"\n",
    "    logger.info(\"Generating key insights...\")\n",
    "    \n",
    "    # Calculate key metrics\n",
    "    all_stats = coverage_stats['all_protein_coding']\n",
    "    functional_stats = coverage_stats['functional_genes']\n",
    "    excluded_stats = coverage_stats['excluded_genes']\n",
    "    \n",
    "    # Difference between all and functional coverage\n",
    "    coverage_diff = all_stats['coverage_percentage'] - functional_stats['coverage_percentage']\n",
    "    \n",
    "    # Number of unique functional categories\n",
    "    functional_categories = len(product_analysis[product_analysis['Category'] == 'Functional'])\n",
    "    \n",
    "    print(\"=\" * 80)\n",
    "    print(\"KEY INSIGHTS\")\n",
    "    print(\"=\" * 80)\n",
    "    \n",
    "    insights = [\n",
    "        f\"1. OVERALL COVERAGE:\",\n",
    "        f\"   • {all_stats['covered']:,} out of {all_stats['total']:,} protein-coding genes ({all_stats['coverage_percentage']:.1f}%) are covered by transposon insertions\",\n",
    "        f\"\",\n",
    "        f\"2. FUNCTIONAL vs ALL GENES:\",\n",
    "        f\"   • Functional genes: {functional_stats['coverage_percentage']:.1f}% coverage ({functional_stats['covered']:,}/{functional_stats['total']:,})\",\n",
    "        f\"   • All protein-coding genes: {all_stats['coverage_percentage']:.1f}% coverage ({all_stats['covered']:,}/{all_stats['total']:,})\",\n",
    "        f\"   • Difference: {abs(coverage_diff):.1f} percentage points ({'higher' if coverage_diff > 0 else 'lower'} when excluding dubious/species-specific genes)\",\n",
    "        f\"\",\n",
    "        f\"3. EXCLUDED CATEGORIES:\",\n",
    "        f\"   • {excluded_stats['total']:,} genes in excluded categories (dubious, species-specific, transposons)\",\n",
    "        f\"   • {excluded_stats['covered']:,} of these are covered ({excluded_stats['coverage_percentage']:.1f}%)\",\n",
    "        f\"   • Represents {(excluded_stats['total'] / all_stats['total'] * 100):.1f}% of all protein-coding genes\",\n",
    "        f\"\",\n",
    "        f\"4. GENE DIVERSITY:\",\n",
    "        f\"   • {functional_categories} distinct functional gene product categories\",\n",
    "        f\"   • {len(EXCLUDED_GENE_PRODUCTS)} excluded categories defined\",\n",
    "        f\"   • Wide range of gene functions represented in the dataset\"\n",
    "    ]\n",
    "    \n",
    "    for insight in insights:\n",
    "        print(insight)\n",
    "    \n",
    "    print()\n",
    "\n",
    "# Display all analyses\n",
    "display_coverage_summary_table(coverage_stats)\n"
   ]
  },
  {
   "cell_type": "code",
   "execution_count": 6,
   "id": "70fddc9f",
   "metadata": {},
   "outputs": [],
   "source": [
    "insertions_before_imputation = pd.read_csv(INSERTION_FILE_BEFORE_IMPUTATION, sep='\\t', index_col=[0,1,2,3], header=[0,1])\n",
    "insertions_after_imputation = pd.read_csv(INSERTION_FILE_AFTER_IMPUTATION, sep='\\t', index_col=[0,1,2,3], header=[0,1])\n",
    "insertions_before_imputation = insertions_before_imputation.loc[insertions_after_imputation.index]\n",
    "annotations = pd.read_csv(ANNOTATION_FILE, sep='\\t', index_col=[0,1,2,3])"
   ]
  },
  {
   "cell_type": "code",
   "execution_count": 28,
   "id": "20d1bbe2",
   "metadata": {},
   "outputs": [],
   "source": [
    "in_gene_indexes = annotations.query(\"(Type != 'Intergenic region') and (Distance_to_stop_codon > 4)\").index\n",
    "in_gene_before_imputation = insertions_before_imputation[insertions_before_imputation.index.isin(in_gene_indexes)].copy()\n",
    "in_gene_after_imputation = insertions_after_imputation[insertions_after_imputation.index.isin(in_gene_indexes)].copy()"
   ]
  },
  {
   "cell_type": "code",
   "execution_count": 41,
   "id": "141eff73",
   "metadata": {},
   "outputs": [
    {
     "data": {
      "text/plain": [
       "36627"
      ]
     },
     "execution_count": 41,
     "metadata": {},
     "output_type": "execute_result"
    }
   ],
   "source": [
    "len(in_gene_before_imputation)"
   ]
  },
  {
   "cell_type": "code",
   "execution_count": 11,
   "id": "20024042",
   "metadata": {},
   "outputs": [],
   "source": [
    "NA_count_before_imputation = in_gene_insertions_before_imputation.isna().sum(axis=1).to_frame(\"NA_count_before_imputation\")\n",
    "NA_count_after_imputation = in_gene_insertions_after_imputation.isna().sum(axis=1).to_frame(\"NA_count_after_imputation\")\n",
    "NA_count = pd.concat([NA_count_before_imputation, NA_count_after_imputation], axis=1)"
   ]
  },
  {
   "cell_type": "code",
   "execution_count": 12,
   "id": "f21eae6c",
   "metadata": {},
   "outputs": [],
   "source": [
    "three_replicate_insertions_in_both = NA_count.query(\"NA_count_before_imputation == 0 and NA_count_after_imputation == 0\").index"
   ]
  },
  {
   "cell_type": "code",
   "execution_count": 39,
   "id": "dda4e020",
   "metadata": {},
   "outputs": [],
   "source": [
    "gene_coverage = annotations.loc[insertions_before_imputation.index][\"Name\"].value_counts().to_frame(\"Coverage\")\n",
    "gene_coverage[\"rank\"] = gene_coverage[\"Coverage\"].rank(method=\"first\", ascending=True)\n",
    "gene_coverage = gene_coverage.sort_values(\"rank\")"
   ]
  },
  {
   "cell_type": "code",
   "execution_count": 20,
   "id": "4238c337",
   "metadata": {},
   "outputs": [
    {
     "data": {
      "text/plain": [
       "np.float64(6.0)"
      ]
     },
     "execution_count": 20,
     "metadata": {},
     "output_type": "execute_result"
    }
   ],
   "source": [
    "gene_coverage[\"Coverage\"].median()"
   ]
  },
  {
   "cell_type": "code",
   "execution_count": 27,
   "id": "905a6431",
   "metadata": {},
   "outputs": [
    {
     "data": {
      "image/png": "[encoded data removed]",
      "text/plain": [
       "<Figure size 600x600 with 1 Axes>"
      ]
     },
     "metadata": {},
     "output_type": "display_data"
    }
   ],
   "source": [
    "sizes = [36627, 93631 - 36627]\n",
    "labels = ['Covered', 'Not Covered']\n",
    "fig, ax = plt.subplots(figsize=(6, 6))\n",
    "\n",
    "# Create the donut chart\n",
    "wedges, texts, autotexts = ax.pie(\n",
    "    sizes, \n",
    "    # labels=labels, \n",
    "    colors=[COLORS[\"functional\"], COLORS[\"background\"]],\n",
    "    autopct=lambda pct: f'{pct:.1f}%\\n({int(pct/100*sum(sizes)):,})',\n",
    "    startangle=90,\n",
    "    pctdistance=0.75,\n",
    "    wedgeprops=dict(width=0.5, edgecolor='white'),\n",
    "    textprops={'fontsize': 24, 'weight': 'bold'}\n",
    ")\n",
    "\n",
    "# Add title\n",
    "# ax.set_title(title, fontsize=14, fontweight='bold', pad=20)\n",
    "\n",
    "# Add total count in center\n",
    "ax.text(0, 0, f'Total\\n{93631:,}\\ninsertions', \n",
    "        ha='center', va='center', fontsize=30, fontweight='bold')\n",
    "\n",
    "# Equal aspect ratio ensures that pie is drawn as a circle\n",
    "ax.axis('equal')\n",
    "\n",
    "plt.tight_layout()\n",
    "plt.show()\n",
    "plt.close()"
   ]
  },
  {
   "cell_type": "code",
   "execution_count": 40,
   "id": "798db0cf",
   "metadata": {},
   "outputs": [
    {
     "ename": "MaxRowsError",
     "evalue": "The number of rows in your dataset is greater than the maximum allowed (5000).\n\nTry enabling the VegaFusion data transformer which raises this limit by pre-evaluating data\ntransformations in Python.\n    >> import altair as alt\n    >> alt.data_transformers.enable(\"vegafusion\")\n\nOr, see https://altair-viz.github.io/user_guide/large_datasets.html for additional information\non how to plot large datasets.",
     "output_type": "error",
     "traceback": [
      "\u001b[31m---------------------------------------------------------------------------\u001b[39m",
      "\u001b[31mMaxRowsError\u001b[39m                              Traceback (most recent call last)",
      "\u001b[36mFile \u001b[39m\u001b[32m~/miniforge3/envs/bioinformatics/lib/python3.12/site-packages/altair/vegalite/v5/api.py:2004\u001b[39m, in \u001b[36mTopLevelMixin.to_dict\u001b[39m\u001b[34m(self, validate, format, ignore, context)\u001b[39m\n\u001b[32m   2001\u001b[39m \u001b[38;5;66;03m# remaining to_dict calls are not at top level\u001b[39;00m\n\u001b[32m   2002\u001b[39m context[\u001b[33m\"\u001b[39m\u001b[33mtop_level\u001b[39m\u001b[33m\"\u001b[39m] = \u001b[38;5;28;01mFalse\u001b[39;00m\n\u001b[32m-> \u001b[39m\u001b[32m2004\u001b[39m vegalite_spec: Any = \u001b[43m_top_schema_base\u001b[49m\u001b[43m(\u001b[49m\u001b[38;5;28;43msuper\u001b[39;49m\u001b[43m(\u001b[49m\u001b[43mTopLevelMixin\u001b[49m\u001b[43m,\u001b[49m\u001b[43m \u001b[49m\u001b[43mcopy\u001b[49m\u001b[43m)\u001b[49m\u001b[43m)\u001b[49m\u001b[43m.\u001b[49m\u001b[43mto_dict\u001b[49m\u001b[43m(\u001b[49m\n\u001b[32m   2005\u001b[39m \u001b[43m    \u001b[49m\u001b[43mvalidate\u001b[49m\u001b[43m=\u001b[49m\u001b[43mvalidate\u001b[49m\u001b[43m,\u001b[49m\u001b[43m \u001b[49m\u001b[43mignore\u001b[49m\u001b[43m=\u001b[49m\u001b[43mignore\u001b[49m\u001b[43m,\u001b[49m\u001b[43m \u001b[49m\u001b[43mcontext\u001b[49m\u001b[43m=\u001b[49m\u001b[38;5;28;43mdict\u001b[39;49m\u001b[43m(\u001b[49m\u001b[43mcontext\u001b[49m\u001b[43m,\u001b[49m\u001b[43m \u001b[49m\u001b[43mpre_transform\u001b[49m\u001b[43m=\u001b[49m\u001b[38;5;28;43;01mFalse\u001b[39;49;00m\u001b[43m)\u001b[49m\n\u001b[32m   2006\u001b[39m \u001b[43m\u001b[49m\u001b[43m)\u001b[49m\n\u001b[32m   2008\u001b[39m \u001b[38;5;66;03m# TODO: following entries are added after validation. Should they be validated?\u001b[39;00m\n\u001b[32m   2009\u001b[39m \u001b[38;5;28;01mif\u001b[39;00m is_top_level:\n\u001b[32m   2010\u001b[39m     \u001b[38;5;66;03m# since this is top-level we add $schema if it's missing\u001b[39;00m\n",
      "\u001b[36mFile \u001b[39m\u001b[32m~/miniforge3/envs/bioinformatics/lib/python3.12/site-packages/altair/utils/schemapi.py:1163\u001b[39m, in \u001b[36mSchemaBase.to_dict\u001b[39m\u001b[34m(self, validate, ignore, context)\u001b[39m\n\u001b[32m   1161\u001b[39m     msg = \u001b[33mf\u001b[39m\u001b[33m\"\u001b[39m\u001b[38;5;132;01m{\u001b[39;00m\u001b[38;5;28mtype\u001b[39m(\u001b[38;5;28mself\u001b[39m)\u001b[38;5;132;01m}\u001b[39;00m\u001b[33m instance has both a value and properties : cannot serialize to dict\u001b[39m\u001b[33m\"\u001b[39m\n\u001b[32m   1162\u001b[39m     \u001b[38;5;28;01mraise\u001b[39;00m \u001b[38;5;167;01mValueError\u001b[39;00m(msg)\n\u001b[32m-> \u001b[39m\u001b[32m1163\u001b[39m result = \u001b[43m_todict\u001b[49m\u001b[43m(\u001b[49m\u001b[43mkwds\u001b[49m\u001b[43m,\u001b[49m\u001b[43m \u001b[49m\u001b[43mcontext\u001b[49m\u001b[43m=\u001b[49m\u001b[43mcontext\u001b[49m\u001b[43m,\u001b[49m\u001b[43m \u001b[49m\u001b[43m*\u001b[49m\u001b[43m*\u001b[49m\u001b[43mopts\u001b[49m\u001b[43m)\u001b[49m\n\u001b[32m   1164\u001b[39m \u001b[38;5;28;01mif\u001b[39;00m validate:\n\u001b[32m   1165\u001b[39m     \u001b[38;5;66;03m# NOTE: Don't raise `from err`, see `SchemaValidationError` doc\u001b[39;00m\n\u001b[32m   1166\u001b[39m     \u001b[38;5;28;01mtry\u001b[39;00m:\n",
      "\u001b[36mFile \u001b[39m\u001b[32m~/miniforge3/envs/bioinformatics/lib/python3.12/site-packages/altair/utils/schemapi.py:554\u001b[39m, in \u001b[36m_todict\u001b[39m\u001b[34m(obj, context, np_opt, pd_opt)\u001b[39m\n\u001b[32m    551\u001b[39m     \u001b[38;5;28;01mreturn\u001b[39;00m [_todict(v, context, np_opt, pd_opt) \u001b[38;5;28;01mfor\u001b[39;00m v \u001b[38;5;129;01min\u001b[39;00m obj]\n\u001b[32m    552\u001b[39m \u001b[38;5;28;01melif\u001b[39;00m \u001b[38;5;28misinstance\u001b[39m(obj, \u001b[38;5;28mdict\u001b[39m):\n\u001b[32m    553\u001b[39m     \u001b[38;5;28;01mreturn\u001b[39;00m {\n\u001b[32m--> \u001b[39m\u001b[32m554\u001b[39m         k: \u001b[43m_todict\u001b[49m\u001b[43m(\u001b[49m\u001b[43mv\u001b[49m\u001b[43m,\u001b[49m\u001b[43m \u001b[49m\u001b[43mcontext\u001b[49m\u001b[43m,\u001b[49m\u001b[43m \u001b[49m\u001b[43mnp_opt\u001b[49m\u001b[43m,\u001b[49m\u001b[43m \u001b[49m\u001b[43mpd_opt\u001b[49m\u001b[43m)\u001b[49m\n\u001b[32m    555\u001b[39m         \u001b[38;5;28;01mfor\u001b[39;00m k, v \u001b[38;5;129;01min\u001b[39;00m obj.items()\n\u001b[32m    556\u001b[39m         \u001b[38;5;28;01mif\u001b[39;00m v \u001b[38;5;129;01mis\u001b[39;00m \u001b[38;5;129;01mnot\u001b[39;00m Undefined\n\u001b[32m    557\u001b[39m     }\n\u001b[32m    558\u001b[39m \u001b[38;5;28;01melif\u001b[39;00m \u001b[38;5;28misinstance\u001b[39m(obj, SchemaLike):\n\u001b[32m    559\u001b[39m     \u001b[38;5;28;01mreturn\u001b[39;00m obj.to_dict()\n",
      "\u001b[36mFile \u001b[39m\u001b[32m~/miniforge3/envs/bioinformatics/lib/python3.12/site-packages/altair/utils/schemapi.py:551\u001b[39m, in \u001b[36m_todict\u001b[39m\u001b[34m(obj, context, np_opt, pd_opt)\u001b[39m\n\u001b[32m    549\u001b[39m     \u001b[38;5;28;01mreturn\u001b[39;00m obj.to_dict(validate=\u001b[38;5;28;01mFalse\u001b[39;00m, context=context)\n\u001b[32m    550\u001b[39m \u001b[38;5;28;01melif\u001b[39;00m \u001b[38;5;28misinstance\u001b[39m(obj, (\u001b[38;5;28mlist\u001b[39m, \u001b[38;5;28mtuple\u001b[39m)):\n\u001b[32m--> \u001b[39m\u001b[32m551\u001b[39m     \u001b[38;5;28;01mreturn\u001b[39;00m [\u001b[43m_todict\u001b[49m\u001b[43m(\u001b[49m\u001b[43mv\u001b[49m\u001b[43m,\u001b[49m\u001b[43m \u001b[49m\u001b[43mcontext\u001b[49m\u001b[43m,\u001b[49m\u001b[43m \u001b[49m\u001b[43mnp_opt\u001b[49m\u001b[43m,\u001b[49m\u001b[43m \u001b[49m\u001b[43mpd_opt\u001b[49m\u001b[43m)\u001b[49m \u001b[38;5;28;01mfor\u001b[39;00m v \u001b[38;5;129;01min\u001b[39;00m obj]\n\u001b[32m    552\u001b[39m \u001b[38;5;28;01melif\u001b[39;00m \u001b[38;5;28misinstance\u001b[39m(obj, \u001b[38;5;28mdict\u001b[39m):\n\u001b[32m    553\u001b[39m     \u001b[38;5;28;01mreturn\u001b[39;00m {\n\u001b[32m    554\u001b[39m         k: _todict(v, context, np_opt, pd_opt)\n\u001b[32m    555\u001b[39m         \u001b[38;5;28;01mfor\u001b[39;00m k, v \u001b[38;5;129;01min\u001b[39;00m obj.items()\n\u001b[32m    556\u001b[39m         \u001b[38;5;28;01mif\u001b[39;00m v \u001b[38;5;129;01mis\u001b[39;00m \u001b[38;5;129;01mnot\u001b[39;00m Undefined\n\u001b[32m    557\u001b[39m     }\n",
      "\u001b[36mFile \u001b[39m\u001b[32m~/miniforge3/envs/bioinformatics/lib/python3.12/site-packages/altair/utils/schemapi.py:549\u001b[39m, in \u001b[36m_todict\u001b[39m\u001b[34m(obj, context, np_opt, pd_opt)\u001b[39m\n\u001b[32m    547\u001b[39m         \u001b[38;5;28;01mreturn\u001b[39;00m result\n\u001b[32m    548\u001b[39m \u001b[38;5;28;01mif\u001b[39;00m \u001b[38;5;28misinstance\u001b[39m(obj, SchemaBase):\n\u001b[32m--> \u001b[39m\u001b[32m549\u001b[39m     \u001b[38;5;28;01mreturn\u001b[39;00m \u001b[43mobj\u001b[49m\u001b[43m.\u001b[49m\u001b[43mto_dict\u001b[49m\u001b[43m(\u001b[49m\u001b[43mvalidate\u001b[49m\u001b[43m=\u001b[49m\u001b[38;5;28;43;01mFalse\u001b[39;49;00m\u001b[43m,\u001b[49m\u001b[43m \u001b[49m\u001b[43mcontext\u001b[49m\u001b[43m=\u001b[49m\u001b[43mcontext\u001b[49m\u001b[43m)\u001b[49m\n\u001b[32m    550\u001b[39m \u001b[38;5;28;01melif\u001b[39;00m \u001b[38;5;28misinstance\u001b[39m(obj, (\u001b[38;5;28mlist\u001b[39m, \u001b[38;5;28mtuple\u001b[39m)):\n\u001b[32m    551\u001b[39m     \u001b[38;5;28;01mreturn\u001b[39;00m [_todict(v, context, np_opt, pd_opt) \u001b[38;5;28;01mfor\u001b[39;00m v \u001b[38;5;129;01min\u001b[39;00m obj]\n",
      "\u001b[36mFile \u001b[39m\u001b[32m~/miniforge3/envs/bioinformatics/lib/python3.12/site-packages/altair/vegalite/v5/api.py:4033\u001b[39m, in \u001b[36mChart.to_dict\u001b[39m\u001b[34m(self, validate, format, ignore, context)\u001b[39m\n\u001b[32m   4031\u001b[39m     copy.data = core.InlineData(values=[{}])\n\u001b[32m   4032\u001b[39m     \u001b[38;5;28;01mreturn\u001b[39;00m \u001b[38;5;28msuper\u001b[39m(Chart, copy).to_dict(**kwds)\n\u001b[32m-> \u001b[39m\u001b[32m4033\u001b[39m \u001b[38;5;28;01mreturn\u001b[39;00m \u001b[38;5;28;43msuper\u001b[39;49m\u001b[43m(\u001b[49m\u001b[43m)\u001b[49m\u001b[43m.\u001b[49m\u001b[43mto_dict\u001b[49m\u001b[43m(\u001b[49m\u001b[43m*\u001b[49m\u001b[43m*\u001b[49m\u001b[43mkwds\u001b[49m\u001b[43m)\u001b[49m\n",
      "\u001b[36mFile \u001b[39m\u001b[32m~/miniforge3/envs/bioinformatics/lib/python3.12/site-packages/altair/vegalite/v5/api.py:1998\u001b[39m, in \u001b[36mTopLevelMixin.to_dict\u001b[39m\u001b[34m(self, validate, format, ignore, context)\u001b[39m\n\u001b[32m   1995\u001b[39m     \u001b[38;5;28;01mexcept\u001b[39;00m \u001b[38;5;167;01mTypeError\u001b[39;00m:\n\u001b[32m   1996\u001b[39m         \u001b[38;5;66;03m# Non-narwhalifiable type supported by Altair, such as dict\u001b[39;00m\n\u001b[32m   1997\u001b[39m         data = original_data\n\u001b[32m-> \u001b[39m\u001b[32m1998\u001b[39m     copy.data = \u001b[43m_prepare_data\u001b[49m\u001b[43m(\u001b[49m\u001b[43mdata\u001b[49m\u001b[43m,\u001b[49m\u001b[43m \u001b[49m\u001b[43mcontext\u001b[49m\u001b[43m)\u001b[49m\n\u001b[32m   1999\u001b[39m     context[\u001b[33m\"\u001b[39m\u001b[33mdata\u001b[39m\u001b[33m\"\u001b[39m] = data\n\u001b[32m   2001\u001b[39m \u001b[38;5;66;03m# remaining to_dict calls are not at top level\u001b[39;00m\n",
      "\u001b[36mFile \u001b[39m\u001b[32m~/miniforge3/envs/bioinformatics/lib/python3.12/site-packages/altair/vegalite/v5/api.py:283\u001b[39m, in \u001b[36m_prepare_data\u001b[39m\u001b[34m(data, context)\u001b[39m\n\u001b[32m    281\u001b[39m \u001b[38;5;28;01melif\u001b[39;00m \u001b[38;5;129;01mnot\u001b[39;00m \u001b[38;5;28misinstance\u001b[39m(data, \u001b[38;5;28mdict\u001b[39m) \u001b[38;5;129;01mand\u001b[39;00m _is_data_type(data):\n\u001b[32m    282\u001b[39m     \u001b[38;5;28;01mif\u001b[39;00m func := data_transformers.get():\n\u001b[32m--> \u001b[39m\u001b[32m283\u001b[39m         data = \u001b[43mfunc\u001b[49m\u001b[43m(\u001b[49m\u001b[43mnw\u001b[49m\u001b[43m.\u001b[49m\u001b[43mto_native\u001b[49m\u001b[43m(\u001b[49m\u001b[43mdata\u001b[49m\u001b[43m,\u001b[49m\u001b[43m \u001b[49m\u001b[43mpass_through\u001b[49m\u001b[43m=\u001b[49m\u001b[38;5;28;43;01mTrue\u001b[39;49;00m\u001b[43m)\u001b[49m\u001b[43m)\u001b[49m\n\u001b[32m    285\u001b[39m \u001b[38;5;66;03m# convert string input to a URLData\u001b[39;00m\n\u001b[32m    286\u001b[39m \u001b[38;5;28;01melif\u001b[39;00m \u001b[38;5;28misinstance\u001b[39m(data, \u001b[38;5;28mstr\u001b[39m):\n",
      "\u001b[36mFile \u001b[39m\u001b[32m~/miniforge3/envs/bioinformatics/lib/python3.12/site-packages/altair/vegalite/data.py:42\u001b[39m, in \u001b[36mdefault_data_transformer\u001b[39m\u001b[34m(data, max_rows)\u001b[39m\n\u001b[32m     39\u001b[39m     \u001b[38;5;28;01mreturn\u001b[39;00m pipe\n\u001b[32m     41\u001b[39m \u001b[38;5;28;01melse\u001b[39;00m:\n\u001b[32m---> \u001b[39m\u001b[32m42\u001b[39m     \u001b[38;5;28;01mreturn\u001b[39;00m to_values(\u001b[43mlimit_rows\u001b[49m\u001b[43m(\u001b[49m\u001b[43mdata\u001b[49m\u001b[43m,\u001b[49m\u001b[43m \u001b[49m\u001b[43mmax_rows\u001b[49m\u001b[43m=\u001b[49m\u001b[43mmax_rows\u001b[49m\u001b[43m)\u001b[49m)\n",
      "\u001b[36mFile \u001b[39m\u001b[32m~/miniforge3/envs/bioinformatics/lib/python3.12/site-packages/altair/utils/data.py:165\u001b[39m, in \u001b[36mlimit_rows\u001b[39m\u001b[34m(data, max_rows)\u001b[39m\n\u001b[32m    162\u001b[39m     values = data\n\u001b[32m    164\u001b[39m \u001b[38;5;28;01mif\u001b[39;00m max_rows \u001b[38;5;129;01mis\u001b[39;00m \u001b[38;5;129;01mnot\u001b[39;00m \u001b[38;5;28;01mNone\u001b[39;00m \u001b[38;5;129;01mand\u001b[39;00m \u001b[38;5;28mlen\u001b[39m(values) > max_rows:\n\u001b[32m--> \u001b[39m\u001b[32m165\u001b[39m     \u001b[43mraise_max_rows_error\u001b[49m\u001b[43m(\u001b[49m\u001b[43m)\u001b[49m\n\u001b[32m    167\u001b[39m \u001b[38;5;28;01mreturn\u001b[39;00m data\n",
      "\u001b[36mFile \u001b[39m\u001b[32m~/miniforge3/envs/bioinformatics/lib/python3.12/site-packages/altair/utils/data.py:148\u001b[39m, in \u001b[36mlimit_rows.<locals>.raise_max_rows_error\u001b[39m\u001b[34m()\u001b[39m\n\u001b[32m    135\u001b[39m \u001b[38;5;28;01mdef\u001b[39;00m\u001b[38;5;250m \u001b[39m\u001b[34mraise_max_rows_error\u001b[39m():\n\u001b[32m    136\u001b[39m     msg = (\n\u001b[32m    137\u001b[39m         \u001b[33m\"\u001b[39m\u001b[33mThe number of rows in your dataset is greater \u001b[39m\u001b[33m\"\u001b[39m\n\u001b[32m    138\u001b[39m         \u001b[33mf\u001b[39m\u001b[33m\"\u001b[39m\u001b[33mthan the maximum allowed (\u001b[39m\u001b[38;5;132;01m{\u001b[39;00mmax_rows\u001b[38;5;132;01m}\u001b[39;00m\u001b[33m).\u001b[39m\u001b[38;5;130;01m\\n\u001b[39;00m\u001b[38;5;130;01m\\n\u001b[39;00m\u001b[33m\"\u001b[39m\n\u001b[32m   (...)\u001b[39m\u001b[32m    146\u001b[39m         \u001b[33m\"\u001b[39m\u001b[33mon how to plot large datasets.\u001b[39m\u001b[33m\"\u001b[39m\n\u001b[32m    147\u001b[39m     )\n\u001b[32m--> \u001b[39m\u001b[32m148\u001b[39m     \u001b[38;5;28;01mraise\u001b[39;00m MaxRowsError(msg)\n",
      "\u001b[31mMaxRowsError\u001b[39m: The number of rows in your dataset is greater than the maximum allowed (5000).\n\nTry enabling the VegaFusion data transformer which raises this limit by pre-evaluating data\ntransformations in Python.\n    >> import altair as alt\n    >> alt.data_transformers.enable(\"vegafusion\")\n\nOr, see https://altair-viz.github.io/user_guide/large_datasets.html for additional information\non how to plot large datasets."
     ]
    },
    {
     "data": {
      "text/plain": [
       "alt.LayerChart(...)"
      ]
     },
     "execution_count": 40,
     "metadata": {},
     "output_type": "execute_result"
    }
   ],
   "source": [
    "import altair as alt\n",
    "\n",
    "alt.Chart(gene_coverage.sort_values(\"rank\")).mark_circle().encode(\n",
    "    x=alt.X(\"Coverage:Q\", title=\"The number of insertions per gene\", scale=alt.Scale(domain=[0, 30], clamp=True)),\n",
    "    y=alt.Y(\"rank:Q\", title=\"The number of genes\"),\n",
    ").properties(\n",
    "    width=200,\n",
    "    height=400\n",
    ") + alt.Chart(pd.DataFrame({'x': [6]})).mark_rule(strokeWidth=3).encode(\n",
    "    x='x:Q',\n",
    "    color=alt.value(\"red\")\n",
    ")"
   ]
  },
  {
   "cell_type": "code",
   "execution_count": 38,
   "id": "1f387e49",
   "metadata": {},
   "outputs": [
    {
     "data": {
      "image/png": "[encoded data removed]",
      "text/plain": [
       "<Figure size 800x600 with 1 Axes>"
      ]
     },
     "metadata": {},
     "output_type": "display_data"
    }
   ],
   "source": [
    "plt.hist(gene_coverage[\"Coverage\"], bins=20)\n",
    "plt.show()\n",
    "plt.close()"
   ]
  },
  {
   "cell_type": "code",
   "execution_count": 34,
   "id": "fa7bde76",
   "metadata": {},
   "outputs": [
    {
     "data": {
      "text/html": [
       "<div>\n",
       "<style scoped>\n",
       "    .dataframe tbody tr th:only-of-type {\n",
       "        vertical-align: middle;\n",
       "    }\n",
       "\n",
       "    .dataframe tbody tr th {\n",
       "        vertical-align: top;\n",
       "    }\n",
       "\n",
       "    .dataframe thead th {\n",
       "        text-align: right;\n",
       "    }\n",
       "</style>\n",
       "<table border=\"1\" class=\"dataframe\">\n",
       "  <thead>\n",
       "    <tr style=\"text-align: right;\">\n",
       "      <th></th>\n",
       "      <th>Coverage</th>\n",
       "      <th>rank</th>\n",
       "    </tr>\n",
       "    <tr>\n",
       "      <th>Name</th>\n",
       "      <th></th>\n",
       "      <th></th>\n",
       "    </tr>\n",
       "  </thead>\n",
       "  <tbody>\n",
       "    <tr>\n",
       "      <th>vps55</th>\n",
       "      <td>1</td>\n",
       "      <td>1.0</td>\n",
       "    </tr>\n",
       "    <tr>\n",
       "      <th>uvi15</th>\n",
       "      <td>1</td>\n",
       "      <td>2.0</td>\n",
       "    </tr>\n",
       "    <tr>\n",
       "      <th>new20</th>\n",
       "      <td>1</td>\n",
       "      <td>3.0</td>\n",
       "    </tr>\n",
       "    <tr>\n",
       "      <th>gcn3</th>\n",
       "      <td>1</td>\n",
       "      <td>4.0</td>\n",
       "    </tr>\n",
       "    <tr>\n",
       "      <th>ade6</th>\n",
       "      <td>1</td>\n",
       "      <td>5.0</td>\n",
       "    </tr>\n",
       "    <tr>\n",
       "      <th>...</th>\n",
       "      <td>...</td>\n",
       "      <td>...</td>\n",
       "    </tr>\n",
       "    <tr>\n",
       "      <th>mdn1</th>\n",
       "      <td>55</td>\n",
       "      <td>4515.0</td>\n",
       "    </tr>\n",
       "    <tr>\n",
       "      <th>tra2</th>\n",
       "      <td>62</td>\n",
       "      <td>4516.0</td>\n",
       "    </tr>\n",
       "    <tr>\n",
       "      <th>tra1</th>\n",
       "      <td>71</td>\n",
       "      <td>4517.0</td>\n",
       "    </tr>\n",
       "    <tr>\n",
       "      <th>dhc1</th>\n",
       "      <td>109</td>\n",
       "      <td>4518.0</td>\n",
       "    </tr>\n",
       "    <tr>\n",
       "      <th>sib1</th>\n",
       "      <td>111</td>\n",
       "      <td>4519.0</td>\n",
       "    </tr>\n",
       "  </tbody>\n",
       "</table>\n",
       "<p>4519 rows × 2 columns</p>\n",
       "</div>"
      ],
      "text/plain": [
       "       Coverage    rank\n",
       "Name                   \n",
       "vps55         1     1.0\n",
       "uvi15         1     2.0\n",
       "new20         1     3.0\n",
       "gcn3          1     4.0\n",
       "ade6          1     5.0\n",
       "...         ...     ...\n",
       "mdn1         55  4515.0\n",
       "tra2         62  4516.0\n",
       "tra1         71  4517.0\n",
       "dhc1        109  4518.0\n",
       "sib1        111  4519.0\n",
       "\n",
       "[4519 rows x 2 columns]"
      ]
     },
     "execution_count": 34,
     "metadata": {},
     "output_type": "execute_result"
    }
   ],
   "source": [
    "gene_coverage"
   ]
  },
  {
   "cell_type": "code",
   "execution_count": 38,
   "id": "9e5f9e33",
   "metadata": {},
   "outputs": [
    {
     "data": {
      "text/plain": [
       "Name\n",
       "dhc1           75\n",
       "sib1           70\n",
       "tra1           39\n",
       "sip1           38\n",
       "vps1301        37\n",
       "               ..\n",
       "SPBC428.15      1\n",
       "rhb1            1\n",
       "pep7            1\n",
       "new20           1\n",
       "SPAC16E8.18     1\n",
       "Name: count, Length: 4359, dtype: int64"
      ]
     },
     "execution_count": 38,
     "metadata": {},
     "output_type": "execute_result"
    }
   ],
   "source": [
    "annotations.loc[three_replicate_insertions_in_both][\"Name\"].value_counts()"
   ]
  },
  {
   "cell_type": "code",
   "execution_count": null,
   "id": "4ebf36d7",
   "metadata": {},
   "outputs": [],
   "source": []
  },
  {
   "cell_type": "code",
   "execution_count": 53,
   "id": "10617ceb",
   "metadata": {},
   "outputs": [
    {
     "data": {
      "image/png": "[encoded data removed]",
      "text/plain": [
       "<Figure size 300x600 with 1 Axes>"
      ]
     },
     "metadata": {},
     "output_type": "display_data"
    }
   ],
   "source": [
    "plt.figure(figsize=(3, 6))\n",
    "plt.scatter(gene_coverage[\"count\"], gene_coverage[\"rank\"], s=10)\n",
    "plt.xlabel(\"Number of transposon insertions\")\n",
    "plt.ylabel(\"Rank of gene coverage\")\n",
    "plt.title(\"Gene coverage vs. number of transposon insertions\")\n",
    "plt.xscale(\"log\")\n",
    "plt.show()\n",
    "plt.close()"
   ]
  },
  {
   "cell_type": "code",
   "execution_count": null,
   "id": "236e4846",
   "metadata": {},
   "outputs": [],
   "source": []
  }
 ],
 "metadata": {
  "kernelspec": {
   "display_name": "bioinformatics",
   "language": "python",
   "name": "python3"
  },
  "language_info": {
   "codemirror_mode": {
    "name": "ipython",
    "version": 3
   },
   "file_extension": ".py",
   "mimetype": "text/x-python",
   "name": "python",
   "nbconvert_exporter": "python",
   "pygments_lexer": "ipython3",
   "version": "3.12.11"
  }
 },
 "nbformat": 4,
 "nbformat_minor": 5
}
